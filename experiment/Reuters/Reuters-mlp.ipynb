{
 "cells": [
  {
   "cell_type": "code",
   "execution_count": 2,
   "metadata": {},
   "outputs": [
    {
     "name": "stderr",
     "output_type": "stream",
     "text": [
      "Using TensorFlow backend.\n"
     ]
    }
   ],
   "source": [
    "# 导入必要的头文件\n",
    "from keras.datasets import reuters\n",
    "from keras.layers import Dense\n",
    "from keras.models import Sequential\n",
    "from keras.preprocessing.sequence import pad_sequences\n",
    "from keras.utils import to_categorical\n",
    "from keras.callbacks import EarlyStopping\n",
    "from sklearn.model_selection import train_test_split\n",
    "\n",
    "import numpy as np\n",
    "import matplotlib.pyplot as plt"
   ]
  },
  {
   "cell_type": "code",
   "execution_count": 3,
   "metadata": {},
   "outputs": [
    {
     "name": "stdout",
     "output_type": "stream",
     "text": [
      "(8982,) (8982,)\n",
      "(2246,) (2246,)\n",
      "46\n"
     ]
    }
   ],
   "source": [
    "# 下载数据\n",
    "(x_train, y_train), (x_test, y_test) = reuters.load_data(num_words = 10000)\n",
    "category = len(set(y_train))\n",
    "print(x_train.shape, y_train.shape)\n",
    "print(x_test.shape, y_test.shape)\n",
    "print(category)\n",
    "# 建立单词映射表\n",
    "word2index = reuters.get_word_index()\n",
    "word2index[\"UNK\"] = 0\n",
    "index2word = {value : key for key, value in word2index.items()}"
   ]
  },
  {
   "cell_type": "code",
   "execution_count": 4,
   "metadata": {},
   "outputs": [
    {
     "name": "stdout",
     "output_type": "stream",
     "text": [
      "2376\n"
     ]
    }
   ],
   "source": [
    "# 一条数据的最大长度\n",
    "max_length = float(\"-inf\")\n",
    "\n",
    "for item in x_train:\n",
    "    if len(item) > max_length:\n",
    "        max_length = len(item)\n",
    "for item in x_test:\n",
    "    if len(item) > max_length:\n",
    "        max_length = len(item)\n",
    "        \n",
    "print(max_length)"
   ]
  },
  {
   "cell_type": "code",
   "execution_count": 7,
   "metadata": {},
   "outputs": [],
   "source": [
    "# 将数据，标签进行二值化\n",
    "\n",
    "def vectorize_sequencs(item, dimension = 10000):\n",
    "    results = np.zeros((len(item), dimension))\n",
    "    for i, sequence in enumerate(item):\n",
    "        results[i, sequence] = 1 \n",
    "    return results\n",
    "x_train = vectorize_sequencs(x_train)\n",
    "x_test = vectorize_sequencs(x_test)\n",
    "y_train = to_categorical(y_train, num_classes = category)\n",
    "y_test = to_categorical(y_test, num_classes = category)"
   ]
  },
  {
   "cell_type": "code",
   "execution_count": 10,
   "metadata": {},
   "outputs": [
    {
     "name": "stdout",
     "output_type": "stream",
     "text": [
      "_________________________________________________________________\n",
      "Layer (type)                 Output Shape              Param #   \n",
      "=================================================================\n",
      "dense_1 (Dense)              (None, 64)                640064    \n",
      "_________________________________________________________________\n",
      "dense_2 (Dense)              (None, 64)                4160      \n",
      "_________________________________________________________________\n",
      "dense_output (Dense)         (None, 46)                2990      \n",
      "=================================================================\n",
      "Total params: 647,214\n",
      "Trainable params: 647,214\n",
      "Non-trainable params: 0\n",
      "_________________________________________________________________\n"
     ]
    }
   ],
   "source": [
    "# 搭建模型\n",
    "model = Sequential()\n",
    "model.add(Dense(units = 64, input_shape = (10000,), activation = \"tanh\", name = \"dense_1\"))\n",
    "model.add(Dense(units = 64, activation = \"tanh\", name = \"dense_2\"))\n",
    "model.add(Dense(units = category, activation = \"softmax\", name = \"dense_output\"))\n",
    "model.summary()"
   ]
  },
  {
   "cell_type": "code",
   "execution_count": 11,
   "metadata": {},
   "outputs": [
    {
     "name": "stdout",
     "output_type": "stream",
     "text": [
      "WARNING:tensorflow:From G:\\Anaconda3\\envs\\tensorflow\\lib\\site-packages\\tensorflow\\python\\ops\\math_ops.py:3066: to_int32 (from tensorflow.python.ops.math_ops) is deprecated and will be removed in a future version.\n",
      "Instructions for updating:\n",
      "Use tf.cast instead.\n",
      "Train on 7185 samples, validate on 1797 samples\n",
      "Epoch 1/20\n",
      "7185/7185 [==============================] - 5s 708us/step - loss: 1.3438 - acc: 0.7037 - val_loss: 0.9560 - val_acc: 0.7947\n",
      "Epoch 2/20\n",
      "7185/7185 [==============================] - 2s 271us/step - loss: 0.6486 - acc: 0.8650 - val_loss: 0.8303 - val_acc: 0.8180\n",
      "Epoch 3/20\n",
      "7185/7185 [==============================] - 2s 275us/step - loss: 0.4091 - acc: 0.9184 - val_loss: 0.8150 - val_acc: 0.8125\n",
      "Epoch 4/20\n",
      "7185/7185 [==============================] - 2s 269us/step - loss: 0.2838 - acc: 0.9408 - val_loss: 0.8223 - val_acc: 0.8136\n",
      "Epoch 5/20\n",
      "7185/7185 [==============================] - 2s 265us/step - loss: 0.2205 - acc: 0.9532 - val_loss: 0.8746 - val_acc: 0.8075\n",
      "Epoch 6/20\n",
      "7185/7185 [==============================] - 2s 268us/step - loss: 0.1801 - acc: 0.9566 - val_loss: 0.9193 - val_acc: 0.8102\n",
      "Epoch 7/20\n",
      "7185/7185 [==============================] - 2s 271us/step - loss: 0.1553 - acc: 0.9595 - val_loss: 0.9530 - val_acc: 0.8002\n",
      "Epoch 8/20\n",
      "7185/7185 [==============================] - 2s 275us/step - loss: 0.1400 - acc: 0.9601 - val_loss: 1.0113 - val_acc: 0.7952\n",
      "Epoch 9/20\n",
      "7185/7185 [==============================] - 2s 267us/step - loss: 0.1266 - acc: 0.9621 - val_loss: 1.0159 - val_acc: 0.7974\n",
      "Epoch 10/20\n",
      "7185/7185 [==============================] - 2s 273us/step - loss: 0.1178 - acc: 0.9634 - val_loss: 1.0353 - val_acc: 0.7941\n",
      "Epoch 11/20\n",
      "7185/7185 [==============================] - 2s 271us/step - loss: 0.1091 - acc: 0.9641 - val_loss: 1.0757 - val_acc: 0.7902\n",
      "Epoch 12/20\n",
      "7185/7185 [==============================] - 2s 263us/step - loss: 0.1046 - acc: 0.9628 - val_loss: 1.0942 - val_acc: 0.7908\n",
      "Epoch 13/20\n",
      "7185/7185 [==============================] - 2s 269us/step - loss: 0.1001 - acc: 0.9631 - val_loss: 1.1072 - val_acc: 0.7891\n",
      "Epoch 14/20\n",
      "7185/7185 [==============================] - 2s 275us/step - loss: 0.0963 - acc: 0.9635 - val_loss: 1.1374 - val_acc: 0.7891\n",
      "Epoch 15/20\n",
      "7185/7185 [==============================] - 2s 269us/step - loss: 0.0910 - acc: 0.9631 - val_loss: 1.1175 - val_acc: 0.7885\n",
      "Epoch 16/20\n",
      "7185/7185 [==============================] - 2s 266us/step - loss: 0.0919 - acc: 0.9623 - val_loss: 1.1491 - val_acc: 0.7852\n",
      "Epoch 17/20\n",
      "7185/7185 [==============================] - 2s 276us/step - loss: 0.0853 - acc: 0.9640 - val_loss: 1.1959 - val_acc: 0.7819\n",
      "Epoch 18/20\n",
      "7185/7185 [==============================] - 2s 266us/step - loss: 0.0844 - acc: 0.9630 - val_loss: 1.2175 - val_acc: 0.7774\n",
      "Epoch 19/20\n",
      "7185/7185 [==============================] - 2s 261us/step - loss: 0.0829 - acc: 0.9648 - val_loss: 1.2145 - val_acc: 0.7819\n",
      "Epoch 20/20\n",
      "7185/7185 [==============================] - 2s 265us/step - loss: 0.0807 - acc: 0.9651 - val_loss: 1.2421 - val_acc: 0.7752\n",
      "2246/2246 [==============================] - 0s 159us/step\n",
      "test score: 1.29280464477 test accuracy: 0.775155832591\n"
     ]
    }
   ],
   "source": [
    "# 编译模型\n",
    "model.compile(optimizer = \"rmsprop\", loss = \"categorical_crossentropy\", metrics = [\"accuracy\"])\n",
    "\n",
    "# 运行模型\n",
    "early_stopping = EarlyStopping(monitor = \"val_acc\", patience = 5)\n",
    "history = model.fit(x_train, y_train, batch_size = 32, epochs = 20, verbose = 1, validation_split = 0.2)\n",
    "\n",
    "# 测试模型\n",
    "score = model.evaluate(x_test, y_test, verbose = 1)\n",
    "print(\"test score:\", score[0], \"test accuracy:\", score[1])"
   ]
  },
  {
   "cell_type": "code",
   "execution_count": 12,
   "metadata": {},
   "outputs": [
    {
     "data": {
      "image/png": "[encoded data removed]",
      "text/plain": [
       "<Figure size 432x288 with 1 Axes>"
      ]
     },
     "metadata": {
      "needs_background": "light"
     },
     "output_type": "display_data"
    }
   ],
   "source": [
    "# 绘制结果\n",
    "plt.figure()\n",
    "times = [i for i in range(1, 21)]\n",
    "plt.plot(times, history.history[\"acc\"], label = \"Train Acc\")\n",
    "plt.plot(times, history.history[\"val_acc\"], label = \"Validation Acc\")\n",
    "plt.legend()\n",
    "plt.show()"
   ]
  }
 ],
 "metadata": {
  "kernelspec": {
   "display_name": "Python 3",
   "language": "python",
   "name": "python3"
  },
  "language_info": {
   "codemirror_mode": {
    "name": "ipython",
    "version": 3
   },
   "file_extension": ".py",
   "mimetype": "text/x-python",
   "name": "python",
   "nbconvert_exporter": "python",
   "pygments_lexer": "ipython3",
   "version": "3.6.8"
  }
 },
 "nbformat": 4,
 "nbformat_minor": 2
}
