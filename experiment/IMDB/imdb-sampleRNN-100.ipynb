{
 "cells": [
  {
   "cell_type": "code",
   "execution_count": 39,
   "metadata": {},
   "outputs": [],
   "source": [
    "from keras.datasets import imdb\n",
    "from keras.layers import Dense, Flatten, SimpleRNN, Embedding\n",
    "from keras.models import Sequential, Model\n",
    "from keras.preprocessing.sequence import pad_sequences\n",
    "from keras.callbacks import EarlyStopping\n",
    "\n",
    "import numpy as np\n",
    "import matplotlib.pyplot as plt"
   ]
  },
  {
   "cell_type": "code",
   "execution_count": 52,
   "metadata": {},
   "outputs": [],
   "source": [
    "# 获取imdb数据\n",
    "max_word = 10000\n",
    "max_length = 100\n",
    "\n",
    "(x_train, y_train), (x_test, y_test) = imdb.load_data(num_words = max_word)\n",
    "\n",
    "# 对每条数据进行截断补齐\n",
    "x_train = pad_sequences(x_train, maxlen = max_length, dtype = \"int32\", padding = \"post\", truncating = \"post\", value = 0)\n",
    "x_test = pad_sequences(x_test, maxlen = max_length, dtype = \"int32\", padding = \"post\", truncating = \"post\", value = 0)"
   ]
  },
  {
   "cell_type": "code",
   "execution_count": 54,
   "metadata": {},
   "outputs": [
    {
     "name": "stdout",
     "output_type": "stream",
     "text": [
      "_________________________________________________________________\n",
      "Layer (type)                 Output Shape              Param #   \n",
      "=================================================================\n",
      "Embedding_1 (Embedding)      (None, 100, 16)           160000    \n",
      "_________________________________________________________________\n",
      "RNN_1 (SimpleRNN)            (None, 16)                528       \n",
      "_________________________________________________________________\n",
      "Dense_1 (Dense)              (None, 16)                272       \n",
      "_________________________________________________________________\n",
      "Dense_2 (Dense)              (None, 1)                 17        \n",
      "=================================================================\n",
      "Total params: 160,817\n",
      "Trainable params: 160,817\n",
      "Non-trainable params: 0\n",
      "_________________________________________________________________\n"
     ]
    }
   ],
   "source": [
    "# 构建模型SimpltRNN\n",
    "embed_size = 16\n",
    "\n",
    "model = Sequential()\n",
    "model.add(Embedding(input_dim = max_word, output_dim = embed_size, input_length = max_length, embeddings_initializer = \"glorot_uniform\", name = \"Embedding_1\"))\n",
    "model.add(SimpleRNN(units = 16, activation = \"tanh\", return_sequences = False, unroll = False, name = \"RNN_1\"))\n",
    "model.add(Dense(units = 16, activation = \"relu\", name = \"Dense_1\"))\n",
    "model.add(Dense(units = 1, activation = \"sigmoid\", name = \"Dense_2\"))\n",
    "\n",
    "model.summary()"
   ]
  },
  {
   "cell_type": "code",
   "execution_count": 55,
   "metadata": {},
   "outputs": [
    {
     "name": "stdout",
     "output_type": "stream",
     "text": [
      "Train on 17500 samples, validate on 7500 samples\n",
      "Epoch 1/10\n",
      "17500/17500 [==============================] - 11s 622us/step - loss: 0.6814 - acc: 0.5578 - val_loss: 0.6085 - val_acc: 0.7240\n",
      "Epoch 2/10\n",
      "17500/17500 [==============================] - 10s 558us/step - loss: 0.5186 - acc: 0.7728 - val_loss: 0.4995 - val_acc: 0.7775\n",
      "Epoch 3/10\n",
      "17500/17500 [==============================] - 10s 550us/step - loss: 0.3659 - acc: 0.8491 - val_loss: 0.4086 - val_acc: 0.8268\n",
      "Epoch 4/10\n",
      "17500/17500 [==============================] - 10s 558us/step - loss: 0.2846 - acc: 0.8862 - val_loss: 0.5318 - val_acc: 0.7825\n",
      "Epoch 5/10\n",
      "17500/17500 [==============================] - 10s 554us/step - loss: 0.2178 - acc: 0.9153 - val_loss: 0.4849 - val_acc: 0.8232\n",
      "Epoch 6/10\n",
      "17500/17500 [==============================] - 10s 549us/step - loss: 0.1573 - acc: 0.9392 - val_loss: 0.5616 - val_acc: 0.7821\n",
      "Epoch 7/10\n",
      "17500/17500 [==============================] - 10s 552us/step - loss: 0.1065 - acc: 0.9620 - val_loss: 0.5763 - val_acc: 0.8092\n",
      "Epoch 8/10\n",
      "17500/17500 [==============================] - 10s 553us/step - loss: 0.0653 - acc: 0.9776 - val_loss: 0.6695 - val_acc: 0.8003\n"
     ]
    }
   ],
   "source": [
    "# 编译模型\n",
    "model.compile(optimizer = \"rmsprop\", loss = \"binary_crossentropy\", metrics = [\"accuracy\"])\n",
    "\n",
    "# 训练模型\n",
    "earlyStopping = EarlyStopping(monitor = \"val_loss\", patience = 5)\n",
    "history = model.fit(x_train, y_train, batch_size = 128, epochs = 10, verbose = 1, validation_split = 0.3, callbacks = [earlyStopping])"
   ]
  },
  {
   "cell_type": "code",
   "execution_count": 56,
   "metadata": {},
   "outputs": [
    {
     "name": "stdout",
     "output_type": "stream",
     "text": [
      "25000/25000 [==============================] - 27s 1ms/step\n"
     ]
    },
    {
     "data": {
      "text/plain": [
       "[0.73625842638969419, 0.77756000000000003]"
      ]
     },
     "execution_count": 56,
     "metadata": {},
     "output_type": "execute_result"
    }
   ],
   "source": [
    "# 测试模型\n",
    "model.evaluate(x_test, y_test, verbose = 1)"
   ]
  },
  {
   "cell_type": "code",
   "execution_count": 58,
   "metadata": {},
   "outputs": [
    {
     "data": {
      "image/png": "[encoded data removed]",
      "text/plain": [
       "<Figure size 432x288 with 1 Axes>"
      ]
     },
     "metadata": {
      "needs_background": "light"
     },
     "output_type": "display_data"
    }
   ],
   "source": [
    "# 绘制结果\n",
    "plt.figure()\n",
    "epochs = [i for i in range(1, 9)]\n",
    "plt.plot(epochs, history.history[\"loss\"], label = \"Train Loss\")\n",
    "plt.plot(epochs, history.history[\"val_loss\"], label = \"Validation Loss\")\n",
    "plt.legend()\n",
    "plt.show()"
   ]
  },
  {
   "cell_type": "code",
   "execution_count": 59,
   "metadata": {},
   "outputs": [
    {
     "data": {
      "image/png": "[encoded data removed]",
      "text/plain": [
       "<Figure size 432x288 with 1 Axes>"
      ]
     },
     "metadata": {
      "needs_background": "light"
     },
     "output_type": "display_data"
    }
   ],
   "source": [
    "plt.figure()\n",
    "plt.plot(epochs, history.history[\"acc\"], label = \"Train Acc\")\n",
    "plt.plot(epochs, history.history[\"val_acc\"], label = \"Validation Acc\")\n",
    "plt.legend()\n",
    "plt.show()"
   ]
  },
  {
   "cell_type": "markdown",
   "metadata": {
    "heading_collapsed": true
   },
   "source": [
    "### 分析：\n",
    "        修改SimpleRNN层数后，模型立马陷入了过拟合的状态，这种情况下，对模型的超参数进行了修改，都减小了一定程度，这样避免了模型学习能力过强而导致的问题。这两个实验说明了SimpleRNN的确存在着梯度消失/梯度爆炸的问题。"
   ]
  }
 ],
 "metadata": {
  "kernelspec": {
   "display_name": "Python 3",
   "language": "python",
   "name": "python3"
  },
  "language_info": {
   "codemirror_mode": {
    "name": "ipython",
    "version": 3
   },
   "file_extension": ".py",
   "mimetype": "text/x-python",
   "name": "python",
   "nbconvert_exporter": "python",
   "pygments_lexer": "ipython3",
   "version": "3.6.8"
  }
 },
 "nbformat": 4,
 "nbformat_minor": 2
}
