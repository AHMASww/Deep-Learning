{
 "cells": [
  {
   "cell_type": "code",
   "execution_count": 38,
   "metadata": {},
   "outputs": [],
   "source": [
    "# 导入必要的头文件\n",
    "from keras.layers import Dense, Input, Activation, Embedding, Lambda\n",
    "from keras.models import Model\n",
    "from keras.callbacks import EarlyStopping\n",
    "from keras.preprocessing.sequence import pad_sequences\n",
    "import keras.backend as K\n",
    "import numpy as np\n",
    "import matplotlib.pyplot as plt"
   ]
  },
  {
   "cell_type": "code",
   "execution_count": 2,
   "metadata": {},
   "outputs": [],
   "source": [
    "from keras.datasets import imdb\n",
    "# 下载imdb数据\n",
    "(x_train, y_train), (x_test, y_test) = imdb.load_data(num_words = 10000)\n",
    "# 构建单词映射表\n",
    "word2index = imdb.get_word_index()\n",
    "word2index[\"UNK\"] = 0 \n",
    "index2word = {value : key for key, value in word2index.items()}"
   ]
  },
  {
   "cell_type": "code",
   "execution_count": 3,
   "metadata": {},
   "outputs": [
    {
     "name": "stdout",
     "output_type": "stream",
     "text": [
      "2494\n"
     ]
    }
   ],
   "source": [
    "max_length = float(\"-inf\")\n",
    "for item in x_train:\n",
    "    if len(item) > max_length:\n",
    "        max_length = len(item)\n",
    "        \n",
    "for item in x_test:\n",
    "    if len(item) > max_length:\n",
    "        max_length = len(item)\n",
    "        \n",
    "print(max_length)"
   ]
  },
  {
   "cell_type": "code",
   "execution_count": 4,
   "metadata": {},
   "outputs": [],
   "source": [
    "x_train = pad_sequences(x_train, padding = \"post\", maxlen = max_length, value = 0, dtype = \"int32\")\n",
    "x_test = pad_sequences(x_test, padding = \"post\", maxlen = max_length, value = 0, dtype = \"int32\")"
   ]
  },
  {
   "cell_type": "code",
   "execution_count": 5,
   "metadata": {},
   "outputs": [
    {
     "name": "stdout",
     "output_type": "stream",
     "text": [
      "WARNING:tensorflow:From G:\\Anaconda3\\envs\\tensorflow\\lib\\site-packages\\tensorflow\\python\\framework\\op_def_library.py:263: colocate_with (from tensorflow.python.framework.ops) is deprecated and will be removed in a future version.\n",
      "Instructions for updating:\n",
      "Colocations handled automatically by placer.\n",
      "_________________________________________________________________\n",
      "Layer (type)                 Output Shape              Param #   \n",
      "=================================================================\n",
      "input_1 (InputLayer)         (None, 2494)              0         \n",
      "_________________________________________________________________\n",
      "embedding_1 (Embedding)      (None, 2494, 300)         26575500  \n",
      "_________________________________________________________________\n",
      "lambda_1 (Lambda)            (None, 300)               0         \n",
      "_________________________________________________________________\n",
      "dense_1 (Dense)              (None, 256)               77056     \n",
      "_________________________________________________________________\n",
      "dense_2 (Dense)              (None, 128)               32896     \n",
      "_________________________________________________________________\n",
      "dense_3 (Dense)              (None, 1)                 129       \n",
      "=================================================================\n",
      "Total params: 26,685,581\n",
      "Trainable params: 26,685,581\n",
      "Non-trainable params: 0\n",
      "_________________________________________________________________\n"
     ]
    }
   ],
   "source": [
    "# 构建模型\n",
    "voca_size = len(word2index)\n",
    "embed_size = 300\n",
    "\n",
    "input_imdb = Input(shape = (max_length,))\n",
    "embedding_1 = Embedding(input_dim = voca_size, output_dim = embed_size, input_length = max_length, embeddings_initializer = \"glorot_uniform\")(input_imdb)\n",
    "lambda_1 = Lambda(lambda x : K.mean(x, axis = 1), output_shape = (embed_size,))(embedding_1)\n",
    "dense_1 = Dense(units = 256, activation = \"relu\", name = \"dense_1\")(lambda_1)\n",
    "dense_2 = Dense(units = 128, activation = \"relu\", name = \"dense_2\")(dense_1)\n",
    "dense_3 = Dense(units = 1, activation = \"sigmoid\", name = \"dense_3\")(dense_2)\n",
    "model = Model(inputs = input_imdb, outputs = dense_3)\n",
    "model.summary()"
   ]
  },
  {
   "cell_type": "code",
   "execution_count": 6,
   "metadata": {
    "scrolled": true
   },
   "outputs": [
    {
     "name": "stdout",
     "output_type": "stream",
     "text": [
      "WARNING:tensorflow:From G:\\Anaconda3\\envs\\tensorflow\\lib\\site-packages\\tensorflow\\python\\ops\\math_ops.py:3066: to_int32 (from tensorflow.python.ops.math_ops) is deprecated and will be removed in a future version.\n",
      "Instructions for updating:\n",
      "Use tf.cast instead.\n",
      "Train on 20000 samples, validate on 5000 samples\n",
      "Epoch 1/20\n",
      "20000/20000 [==============================] - 31s 2ms/step - loss: 0.6056 - acc: 0.6126 - val_loss: 0.3766 - val_acc: 0.8288\n",
      "Epoch 2/20\n",
      "20000/20000 [==============================] - 27s 1ms/step - loss: 0.2988 - acc: 0.8759 - val_loss: 0.3322 - val_acc: 0.8582\n",
      "Epoch 3/20\n",
      "20000/20000 [==============================] - 27s 1ms/step - loss: 0.2359 - acc: 0.9040 - val_loss: 0.3038 - val_acc: 0.8704\n",
      "Epoch 4/20\n",
      "20000/20000 [==============================] - 27s 1ms/step - loss: 0.2040 - acc: 0.9208 - val_loss: 0.2753 - val_acc: 0.8898\n",
      "Epoch 5/20\n",
      "20000/20000 [==============================] - 27s 1ms/step - loss: 0.1621 - acc: 0.9397 - val_loss: 0.2979 - val_acc: 0.8898\n",
      "Epoch 6/20\n",
      "20000/20000 [==============================] - 26s 1ms/step - loss: 0.1505 - acc: 0.9448 - val_loss: 0.3454 - val_acc: 0.8614\n",
      "Epoch 7/20\n",
      "20000/20000 [==============================] - 27s 1ms/step - loss: 0.1306 - acc: 0.9512 - val_loss: 0.3442 - val_acc: 0.8860\n",
      "Epoch 8/20\n",
      "20000/20000 [==============================] - 27s 1ms/step - loss: 0.1155 - acc: 0.9582 - val_loss: 0.3102 - val_acc: 0.8872\n",
      "Epoch 9/20\n",
      "20000/20000 [==============================] - 27s 1ms/step - loss: 0.1060 - acc: 0.9601 - val_loss: 0.5334 - val_acc: 0.8420\n",
      "25000/25000 [==============================] - 3s 116us/step\n",
      "test score: 0.557780917988 test accuracy: 0.82948\n"
     ]
    }
   ],
   "source": [
    "# 编译模型\n",
    "model.compile(optimizer = \"adam\", loss = \"binary_crossentropy\", metrics = [\"accuracy\"])\n",
    "\n",
    "# 运行模型\n",
    "early_stopping = EarlyStopping(monitor = \"val_acc\", patience = 5)\n",
    "history = model.fit(x_train, y_train, batch_size = 32, epochs = 20, verbose = 1, validation_split = 0.2, callbacks = [early_stopping])\n",
    "\n",
    "# 测试模型\n",
    "score = model.evaluate(x_test, y_test, verbose = 1)\n",
    "print(\"test score:\", score[0], \"test accuracy:\", score[1])"
   ]
  },
  {
   "cell_type": "code",
   "execution_count": 7,
   "metadata": {},
   "outputs": [
    {
     "data": {
      "image/png": "[encoded data removed]",
      "text/plain": [
       "<Figure size 432x288 with 1 Axes>"
      ]
     },
     "metadata": {
      "needs_background": "light"
     },
     "output_type": "display_data"
    }
   ],
   "source": [
    "# 绘制结果\n",
    "plt.figure()\n",
    "times = [i for i in range(len(history.history[\"acc\"]))]\n",
    "plt.plot(times, history.history[\"acc\"], c = \"r\", label = \"train acc\")\n",
    "plt.plot(times, history.history[\"val_acc\"], c = \"g\", label = \"validation acc\")\n",
    "plt.show()"
   ]
  },
  {
   "cell_type": "code",
   "execution_count": 39,
   "metadata": {},
   "outputs": [],
   "source": [
    "# 获得模型预测的结果\n",
    "p = model.predict(x_test)\n",
    "# 按概率值降序排列预测结果\n",
    "match = list(zip(p, y_test))\n",
    "match = sorted(match, key = lambda x : x[0], reverse = True)\n",
    "# 计算标签为1和标签为0的数量\n",
    "T, F = 0, 0\n",
    "for i in range(len(match)):\n",
    "    if match[i][1] == 1:\n",
    "        T += 1\n",
    "    else:\n",
    "        F += 1"
   ]
  },
  {
   "cell_type": "code",
   "execution_count": 35,
   "metadata": {},
   "outputs": [
    {
     "data": {
      "image/png": "[encoded data removed]",
      "text/plain": [
       "<Figure size 432x288 with 2 Axes>"
      ]
     },
     "metadata": {
      "needs_background": "light"
     },
     "output_type": "display_data"
    }
   ],
   "source": [
    "# 绘制P-R图、ROC曲线\n",
    "P, R = [], []\n",
    "TPR, FPR = [], []\n",
    "TP = 0\n",
    "for i in range(len(match)):\n",
    "    if match[i][1] == 1:\n",
    "        TP += 1\n",
    "    FP = i + 1 - TP\n",
    "    FN = T - TP\n",
    "    TN = F - FP\n",
    "    P.append(TP / (TP + FP))\n",
    "    R.append(TP / (TP + FN))\n",
    "    TPR.append(TP / (TP + FN))\n",
    "    FPR.append(FP / (FP + TN))\n",
    "    \n",
    "plt.figure()\n",
    "\n",
    "plt.subplot(121)\n",
    "plt.title(\"P-R\")\n",
    "plt.plot(R, P)\n",
    "plt.xlabel(\"Recall\")\n",
    "plt.ylabel(\"Precision\")\n",
    "plt.tight_layout()\n",
    "\n",
    "plt.subplot(122)\n",
    "plt.title(\"ROC\")\n",
    "plt.plot(FPR, TPR)\n",
    "plt.xlabel(\"TPR\")\n",
    "plt.ylabel(\"FPR\")\n",
    "plt.tight_layout()\n",
    "\n",
    "plt.show()"
   ]
  }
 ],
 "metadata": {
  "kernelspec": {
   "display_name": "Python 3",
   "language": "python",
   "name": "python3"
  },
  "language_info": {
   "codemirror_mode": {
    "name": "ipython",
    "version": 3
   },
   "file_extension": ".py",
   "mimetype": "text/x-python",
   "name": "python",
   "nbconvert_exporter": "python",
   "pygments_lexer": "ipython3",
   "version": "3.6.8"
  }
 },
 "nbformat": 4,
 "nbformat_minor": 2
}
