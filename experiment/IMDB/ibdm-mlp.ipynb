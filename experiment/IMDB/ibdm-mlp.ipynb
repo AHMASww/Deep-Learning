{
 "cells": [
  {
   "cell_type": "code",
   "execution_count": 31,
   "metadata": {},
   "outputs": [],
   "source": [
    "# 导入必要的头文件\n",
    "from keras.layers import Dense, Input, Activation, Embedding, Lambda\n",
    "from keras.models import Model\n",
    "from keras.callbacks import EarlyStopping\n",
    "from keras.preprocessing.sequence import pad_sequences\n",
    "import keras.backend as K\n",
    "import numpy as np\n",
    "import matplotlib.pyplot as plt"
   ]
  },
  {
   "cell_type": "code",
   "execution_count": 4,
   "metadata": {},
   "outputs": [],
   "source": [
    "from keras.datasets import imdb\n",
    "# 下载imdb数据\n",
    "(x_train, y_train), (x_test, y_test) = imdb.load_data(num_words = 10000)\n",
    "# 构建单词映射表\n",
    "word2index = imdb.get_word_index()\n",
    "word2index[\"UNK\"] = 0 \n",
    "index2word = {value : key for key, value in word2index.items()}"
   ]
  },
  {
   "cell_type": "code",
   "execution_count": 13,
   "metadata": {},
   "outputs": [
    {
     "name": "stdout",
     "output_type": "stream",
     "text": [
      "2494\n"
     ]
    }
   ],
   "source": [
    "max_length = float(\"-inf\")\n",
    "for item in x_train:\n",
    "    if len(item) > max_length:\n",
    "        max_length = len(item)\n",
    "        \n",
    "for item in x_test:\n",
    "    if len(item) > max_length:\n",
    "        max_length = len(item)\n",
    "        \n",
    "print(max_length)"
   ]
  },
  {
   "cell_type": "code",
   "execution_count": 15,
   "metadata": {},
   "outputs": [
    {
     "name": "stdout",
     "output_type": "stream",
     "text": [
      "<class 'numpy.ndarray'>\n"
     ]
    }
   ],
   "source": [
    "x_train = pad_sequences(x_train, padding = \"post\", maxlen = max_length, value = 0, dtype = \"int32\")\n",
    "x_test = pad_sequences(x_test, padding = \"post\", maxlen = max_length, value = 0, dtype = \"int32\")"
   ]
  },
  {
   "cell_type": "code",
   "execution_count": 21,
   "metadata": {},
   "outputs": [
    {
     "name": "stdout",
     "output_type": "stream",
     "text": [
      "_________________________________________________________________\n",
      "Layer (type)                 Output Shape              Param #   \n",
      "=================================================================\n",
      "input_3 (InputLayer)         (None, 2494)              0         \n",
      "_________________________________________________________________\n",
      "embedding_3 (Embedding)      (None, 2494, 300)         26575200  \n",
      "_________________________________________________________________\n",
      "lambda_2 (Lambda)            (None, 300)               0         \n",
      "_________________________________________________________________\n",
      "dense_1 (Dense)              (None, 256)               77056     \n",
      "_________________________________________________________________\n",
      "dense_2 (Dense)              (None, 128)               32896     \n",
      "_________________________________________________________________\n",
      "dense_3 (Dense)              (None, 1)                 129       \n",
      "=================================================================\n",
      "Total params: 26,685,281\n",
      "Trainable params: 26,685,281\n",
      "Non-trainable params: 0\n",
      "_________________________________________________________________\n"
     ]
    }
   ],
   "source": [
    "# 构建模型\n",
    "voca_size = len(word2index)\n",
    "embed_size = 300\n",
    "\n",
    "input_imdb = Input(shape = (max_length,))\n",
    "embedding_1 = Embedding(input_dim = voca_size, output_dim = embed_size, input_length = max_length, embeddings_initializer = \"glorot_uniform\")(input_imdb)\n",
    "lambda_1 = Lambda(lambda x : K.mean(x, axis = 1), output_shape = (embed_size,))(embedding_1)\n",
    "dense_1 = Dense(units = 256, activation = \"relu\", name = \"dense_1\")(lambda_1)\n",
    "dense_2 = Dense(units = 128, activation = \"relu\", name = \"dense_2\")(dense_1)\n",
    "dense_3 = Dense(units = 1, activation = \"sigmoid\", name = \"dense_3\")(dense_2)\n",
    "model = Model(inputs = input_imdb, outputs = dense_3)\n",
    "model.summary()"
   ]
  },
  {
   "cell_type": "code",
   "execution_count": 26,
   "metadata": {
    "scrolled": true
   },
   "outputs": [
    {
     "name": "stdout",
     "output_type": "stream",
     "text": [
      "Train on 20000 samples, validate on 5000 samples\n",
      "Epoch 1/20\n",
      "20000/20000 [==============================] - 28s 1ms/step - loss: 0.1164 - acc: 0.9560 - val_loss: 0.5467 - val_acc: 0.8280\n",
      "Epoch 2/20\n",
      "20000/20000 [==============================] - 27s 1ms/step - loss: 0.0988 - acc: 0.9653 - val_loss: 0.5654 - val_acc: 0.8772\n",
      "Epoch 3/20\n",
      "20000/20000 [==============================] - 27s 1ms/step - loss: 0.0872 - acc: 0.9692 - val_loss: 0.5105 - val_acc: 0.8748\n",
      "Epoch 4/20\n",
      "20000/20000 [==============================] - 27s 1ms/step - loss: 0.0889 - acc: 0.9684 - val_loss: 0.5078 - val_acc: 0.8522\n",
      "Epoch 5/20\n",
      "20000/20000 [==============================] - 27s 1ms/step - loss: 0.0694 - acc: 0.9759 - val_loss: 0.5683 - val_acc: 0.8858\n",
      "Epoch 6/20\n",
      "20000/20000 [==============================] - 27s 1ms/step - loss: 0.0659 - acc: 0.9759 - val_loss: 0.6268 - val_acc: 0.8818\n",
      "Epoch 7/20\n",
      "20000/20000 [==============================] - 27s 1ms/step - loss: 0.0635 - acc: 0.9770 - val_loss: 0.6667 - val_acc: 0.8784\n",
      "Epoch 8/20\n",
      "20000/20000 [==============================] - 27s 1ms/step - loss: 0.0574 - acc: 0.9783 - val_loss: 0.6136 - val_acc: 0.8802\n",
      "Epoch 9/20\n",
      "20000/20000 [==============================] - 27s 1ms/step - loss: 0.0631 - acc: 0.9749 - val_loss: 0.7057 - val_acc: 0.8766\n",
      "Epoch 10/20\n",
      "20000/20000 [==============================] - 27s 1ms/step - loss: 0.0540 - acc: 0.9786 - val_loss: 0.6992 - val_acc: 0.8664\n",
      "25000/25000 [==============================] - 3s 116us/step\n",
      "test score: 0.746939685397 test accuracy: 0.84808\n"
     ]
    }
   ],
   "source": [
    "# 编译模型\n",
    "model.compile(optimizer = \"adam\", loss = \"binary_crossentropy\", metrics = [\"accuracy\"])\n",
    "\n",
    "# 运行模型\n",
    "early_stopping = EarlyStopping(monitor = \"val_acc\", patience = 5)\n",
    "history = model.fit(x_train, y_train, batch_size = 32, epochs = 20, verbose = 1, validation_split = 0.2, callbacks = [early_stopping])\n",
    "\n",
    "# 测试模型\n",
    "score = model.evaluate(x_test, y_test, verbose = 1)\n",
    "print(\"test score:\", score[0], \"test accuracy:\", score[1])"
   ]
  },
  {
   "cell_type": "code",
   "execution_count": 29,
   "metadata": {},
   "outputs": [
    {
     "data": {
      "image/png": "[encoded data removed]",
      "text/plain": [
       "<Figure size 432x288 with 1 Axes>"
      ]
     },
     "metadata": {
      "needs_background": "light"
     },
     "output_type": "display_data"
    }
   ],
   "source": [
    "# 绘制结果\n",
    "plt.figure()\n",
    "times = [i for i in range(len(history.history[\"acc\"]))]\n",
    "plt.plot(times, history.history[\"acc\"], c = \"r\", label = \"train acc\")\n",
    "plt.plot(times, history.history[\"val_acc\"], c = \"g\", label = \"validation acc\")\n",
    "plt.show()"
   ]
  }
 ],
 "metadata": {
  "kernelspec": {
   "display_name": "Python 3",
   "language": "python",
   "name": "python3"
  },
  "language_info": {
   "codemirror_mode": {
    "name": "ipython",
    "version": 3
   },
   "file_extension": ".py",
   "mimetype": "text/x-python",
   "name": "python",
   "nbconvert_exporter": "python",
   "pygments_lexer": "ipython3",
   "version": "3.6.8"
  }
 },
 "nbformat": 4,
 "nbformat_minor": 2
}
