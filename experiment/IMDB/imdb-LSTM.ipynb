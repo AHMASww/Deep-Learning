{
 "cells": [
  {
   "cell_type": "code",
   "execution_count": 1,
   "metadata": {},
   "outputs": [
    {
     "name": "stderr",
     "output_type": "stream",
     "text": [
      "Using TensorFlow backend.\n"
     ]
    }
   ],
   "source": [
    "from keras.layers import Dense, LSTM, Flatten, Embedding\n",
    "from keras.models import Model, Sequential\n",
    "from keras.datasets import imdb\n",
    "from keras.preprocessing.sequence import pad_sequences\n",
    "from keras.callbacks import EarlyStopping\n",
    "\n",
    "import numpy as np\n",
    "import matplotlib.pyplot as plt"
   ]
  },
  {
   "cell_type": "code",
   "execution_count": 2,
   "metadata": {},
   "outputs": [],
   "source": [
    "# 获取数据\n",
    "max_word = 10000\n",
    "max_length = 500\n",
    "\n",
    "(x_train, y_train), (x_test, y_test) = imdb.load_data(num_words = max_word)\n",
    "\n",
    "x_train = pad_sequences(x_train, maxlen = max_length , padding = \"post\", truncating = \"post\", value = 0, dtype = \"int32\")\n",
    "x_test = pad_sequences(x_test, maxlen = max_length, padding = \"post\", truncating = \"post\", value = 0, dtype = \"int32\")"
   ]
  },
  {
   "cell_type": "code",
   "execution_count": 3,
   "metadata": {},
   "outputs": [
    {
     "name": "stdout",
     "output_type": "stream",
     "text": [
      "WARNING:tensorflow:From G:\\Anaconda3\\envs\\tensorflow\\lib\\site-packages\\tensorflow\\python\\framework\\op_def_library.py:263: colocate_with (from tensorflow.python.framework.ops) is deprecated and will be removed in a future version.\n",
      "Instructions for updating:\n",
      "Colocations handled automatically by placer.\n",
      "_________________________________________________________________\n",
      "Layer (type)                 Output Shape              Param #   \n",
      "=================================================================\n",
      "Embedding_1 (Embedding)      (None, 500, 32)           320000    \n",
      "_________________________________________________________________\n",
      "LSTM_1 (LSTM)                (None, 32)                8320      \n",
      "_________________________________________________________________\n",
      "Dense_1 (Dense)              (None, 16)                528       \n",
      "_________________________________________________________________\n",
      "Dense_2 (Dense)              (None, 1)                 17        \n",
      "=================================================================\n",
      "Total params: 328,865\n",
      "Trainable params: 328,865\n",
      "Non-trainable params: 0\n",
      "_________________________________________________________________\n"
     ]
    }
   ],
   "source": [
    "# 建立模型\n",
    "embed_size = 32\n",
    "\n",
    "model = Sequential()\n",
    "\n",
    "model.add(Embedding(input_dim = max_word, output_dim = embed_size, input_length = max_length, embeddings_initializer = \"glorot_uniform\", name = \"Embedding_1\"))\n",
    "model.add(LSTM(units = 32, activation = \"tanh\", return_sequences = False, unroll = False, name = \"LSTM_1\"))\n",
    "model.add(Dense(units = 16, activation = \"relu\", name = \"Dense_1\"))\n",
    "model.add(Dense(units = 1, activation = \"sigmoid\", name = \"Dense_2\"))\n",
    "\n",
    "model. summary()"
   ]
  },
  {
   "cell_type": "code",
   "execution_count": 4,
   "metadata": {},
   "outputs": [
    {
     "name": "stdout",
     "output_type": "stream",
     "text": [
      "WARNING:tensorflow:From G:\\Anaconda3\\envs\\tensorflow\\lib\\site-packages\\tensorflow\\python\\ops\\math_ops.py:3066: to_int32 (from tensorflow.python.ops.math_ops) is deprecated and will be removed in a future version.\n",
      "Instructions for updating:\n",
      "Use tf.cast instead.\n",
      "Train on 17500 samples, validate on 7500 samples\n",
      "Epoch 1/20\n",
      "17500/17500 [==============================] - 112s 6ms/step - loss: 0.6930 - acc: 0.5055 - val_loss: 0.6928 - val_acc: 0.5096\n",
      "Epoch 2/20\n",
      "17500/17500 [==============================] - 107s 6ms/step - loss: 0.7023 - acc: 0.5130 - val_loss: 0.6690 - val_acc: 0.5171\n",
      "Epoch 3/20\n",
      "17500/17500 [==============================] - 107s 6ms/step - loss: 0.6686 - acc: 0.6077 - val_loss: 0.6873 - val_acc: 0.5359\n",
      "Epoch 4/20\n",
      "17500/17500 [==============================] - 107s 6ms/step - loss: 0.6201 - acc: 0.6802 - val_loss: 0.6163 - val_acc: 0.6759\n",
      "Epoch 5/20\n",
      "17500/17500 [==============================] - 107s 6ms/step - loss: 0.6056 - acc: 0.7017 - val_loss: 0.5860 - val_acc: 0.7243\n",
      "Epoch 6/20\n",
      "17500/17500 [==============================] - 107s 6ms/step - loss: 0.5696 - acc: 0.7344 - val_loss: 0.5834 - val_acc: 0.7265\n",
      "Epoch 7/20\n",
      "17500/17500 [==============================] - 107s 6ms/step - loss: 0.5503 - acc: 0.7530 - val_loss: 0.5371 - val_acc: 0.7712\n",
      "Epoch 8/20\n",
      "17500/17500 [==============================] - 108s 6ms/step - loss: 0.5273 - acc: 0.7766 - val_loss: 0.5123 - val_acc: 0.7913\n",
      "Epoch 9/20\n",
      "17500/17500 [==============================] - 107s 6ms/step - loss: 0.5074 - acc: 0.7931 - val_loss: 0.5090 - val_acc: 0.7936\n",
      "Epoch 10/20\n",
      "17500/17500 [==============================] - 107s 6ms/step - loss: 0.5137 - acc: 0.7870 - val_loss: 0.5206 - val_acc: 0.7841\n",
      "Epoch 11/20\n",
      "17500/17500 [==============================] - 108s 6ms/step - loss: 0.5154 - acc: 0.7818 - val_loss: 0.5166 - val_acc: 0.7896\n",
      "Epoch 12/20\n",
      "17500/17500 [==============================] - 107s 6ms/step - loss: 0.5054 - acc: 0.7889 - val_loss: 0.5301 - val_acc: 0.7696\n",
      "Epoch 13/20\n",
      "17500/17500 [==============================] - 108s 6ms/step - loss: 0.5310 - acc: 0.7791 - val_loss: 0.5360 - val_acc: 0.7809\n",
      "Epoch 14/20\n",
      "17500/17500 [==============================] - 108s 6ms/step - loss: 0.4956 - acc: 0.7915 - val_loss: 0.5343 - val_acc: 0.7645\n",
      "Epoch 15/20\n",
      "17500/17500 [==============================] - 107s 6ms/step - loss: 0.5119 - acc: 0.7951 - val_loss: 0.5334 - val_acc: 0.7776\n",
      "Epoch 16/20\n",
      "17500/17500 [==============================] - 107s 6ms/step - loss: 0.4862 - acc: 0.8004 - val_loss: 0.5345 - val_acc: 0.7748\n",
      "Epoch 17/20\n",
      "17500/17500 [==============================] - 107s 6ms/step - loss: 0.4770 - acc: 0.8030 - val_loss: 0.5541 - val_acc: 0.7763\n",
      "Epoch 18/20\n",
      "17500/17500 [==============================] - 108s 6ms/step - loss: 0.4838 - acc: 0.7954 - val_loss: 0.5448 - val_acc: 0.7701\n",
      "Epoch 19/20\n",
      "17500/17500 [==============================] - 108s 6ms/step - loss: 0.5059 - acc: 0.7963 - val_loss: 0.5824 - val_acc: 0.7544\n",
      "Epoch 20/20\n",
      "17500/17500 [==============================] - 109s 6ms/step - loss: 0.4914 - acc: 0.7959 - val_loss: 0.5170 - val_acc: 0.7540\n"
     ]
    },
    {
     "data": {
      "text/plain": [
       "<keras.callbacks.History at 0x152cce91c18>"
      ]
     },
     "execution_count": 4,
     "metadata": {},
     "output_type": "execute_result"
    }
   ],
   "source": [
    "# 编译模型\n",
    "model.compile(optimizer = \"rmsprop\", loss = \"binary_crossentropy\", metrics = [\"acc\"])\n",
    "\n",
    "# 训练模型\n",
    "earlyStopping = EarlyStopping(monitor = \"val_loss\", patience = 5)\n",
    "model.fit(x_train, y_train, batch_size = 128, epochs = 20, validation_split = 0.3, verbose = 1)"
   ]
  },
  {
   "cell_type": "code",
   "execution_count": 5,
   "metadata": {},
   "outputs": [
    {
     "name": "stdout",
     "output_type": "stream",
     "text": [
      "25000/25000 [==============================] - 203s 8ms/step\n"
     ]
    },
    {
     "data": {
      "text/plain": [
       "[0.4638665198135376, 0.78147999999999995]"
      ]
     },
     "execution_count": 5,
     "metadata": {},
     "output_type": "execute_result"
    }
   ],
   "source": [
    "# 测试模型\n",
    "model.evaluate(x_train, y_train, verbose = 1)"
   ]
  },
  {
   "cell_type": "markdown",
   "metadata": {},
   "source": [
    "### 分析：\n",
    "    LSTM和SimpleRNN相比，在500step下依然能保持不梯度消失/爆炸，可见LSTM可以在一定程度上避免梯度消失/爆炸问题。\n",
    "    LSTM通过Ct来保存Cell状态，而Ct-1和Ct之间是通过加法来处理的，这样可以保证在较长的时间步中，初期的状态也能对当前状态产生一定影响，而SimpleRNN通过乘法处理，在较长的时间步中，可能会导致初期的状态由于权重w的指数级相乘而趋于0或者过大。"
   ]
  }
 ],
 "metadata": {
  "kernelspec": {
   "display_name": "Python 3",
   "language": "python",
   "name": "python3"
  },
  "language_info": {
   "codemirror_mode": {
    "name": "ipython",
    "version": 3
   },
   "file_extension": ".py",
   "mimetype": "text/x-python",
   "name": "python",
   "nbconvert_exporter": "python",
   "pygments_lexer": "ipython3",
   "version": "3.6.8"
  }
 },
 "nbformat": 4,
 "nbformat_minor": 2
}
