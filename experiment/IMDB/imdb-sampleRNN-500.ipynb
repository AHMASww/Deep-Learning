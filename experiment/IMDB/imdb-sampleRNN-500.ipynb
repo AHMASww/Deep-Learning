{
 "cells": [
  {
   "cell_type": "code",
   "execution_count": 9,
   "metadata": {},
   "outputs": [],
   "source": [
    "from keras.datasets import imdb\n",
    "from keras.layers import Dense, Flatten, SimpleRNN, Embedding\n",
    "from keras.models import Sequential, Model\n",
    "from keras.preprocessing.sequence import pad_sequences\n",
    "\n",
    "import numpy as np\n",
    "import matplotlib.pyplot as plt"
   ]
  },
  {
   "cell_type": "code",
   "execution_count": 28,
   "metadata": {},
   "outputs": [
    {
     "name": "stdout",
     "output_type": "stream",
     "text": [
      "2494\n"
     ]
    }
   ],
   "source": [
    "# 获取imdb数据\n",
    "max_word = 10000\n",
    "max_length = 500\n",
    "\n",
    "(x_train, y_train), (x_test, y_test) = imdb.load_data(num_words = max_word)\n",
    "\n",
    "# 对每条数据进行截断补齐\n",
    "x_train = pad_sequences(x_train, maxlen = max_length, dtype = \"int32\", padding = \"post\", truncating = \"post\", value = 0)\n",
    "x_test = pad_sequences(x_test, maxlen = max_length, dtype = \"int32\", padding = \"post\", truncating = \"post\", value = 0)"
   ]
  },
  {
   "cell_type": "code",
   "execution_count": 29,
   "metadata": {},
   "outputs": [
    {
     "name": "stdout",
     "output_type": "stream",
     "text": [
      "_________________________________________________________________\n",
      "Layer (type)                 Output Shape              Param #   \n",
      "=================================================================\n",
      "Embedding_1 (Embedding)      (None, 500, 32)           320000    \n",
      "_________________________________________________________________\n",
      "RNN_1 (SimpleRNN)            (None, 64)                6208      \n",
      "_________________________________________________________________\n",
      "Dense_1 (Dense)              (None, 32)                2080      \n",
      "_________________________________________________________________\n",
      "Dense_2 (Dense)              (None, 1)                 33        \n",
      "=================================================================\n",
      "Total params: 328,321\n",
      "Trainable params: 328,321\n",
      "Non-trainable params: 0\n",
      "_________________________________________________________________\n"
     ]
    }
   ],
   "source": [
    "# 构建模型SimpltRNN\n",
    "embed_size = 32\n",
    "\n",
    "model = Sequential()\n",
    "model.add(Embedding(input_dim = max_word, output_dim = embed_size, input_length = max_length, embeddings_initializer = \"glorot_uniform\", name = \"Embedding_1\"))\n",
    "model.add(SimpleRNN(units = 64, activation = \"tanh\", return_sequences = False, unroll = False, name = \"RNN_1\"))\n",
    "model.add(Dense(units = 32, activation = \"relu\", name = \"Dense_1\"))\n",
    "model.add(Dense(units = 1, activation = \"sigmoid\", name = \"Dense_2\"))\n",
    "\n",
    "model.summary()"
   ]
  },
  {
   "cell_type": "code",
   "execution_count": 30,
   "metadata": {},
   "outputs": [
    {
     "name": "stdout",
     "output_type": "stream",
     "text": [
      "Train on 17500 samples, validate on 7500 samples\n",
      "Epoch 1/10\n",
      "17500/17500 [==============================] - 46s 3ms/step - loss: 0.6945 - acc: 0.4933 - val_loss: 0.6931 - val_acc: 0.5067\n",
      "Epoch 2/10\n",
      "17500/17500 [==============================] - 44s 3ms/step - loss: 0.6944 - acc: 0.5006 - val_loss: 0.6971 - val_acc: 0.4943\n",
      "Epoch 3/10\n",
      "17500/17500 [==============================] - 45s 3ms/step - loss: 0.6930 - acc: 0.5091 - val_loss: 0.6943 - val_acc: 0.5096\n",
      "Epoch 4/10\n",
      "17500/17500 [==============================] - 44s 3ms/step - loss: 0.6913 - acc: 0.5191 - val_loss: 0.6961 - val_acc: 0.5081\n",
      "Epoch 5/10\n",
      "17500/17500 [==============================] - 44s 3ms/step - loss: 0.6882 - acc: 0.5280 - val_loss: 0.6949 - val_acc: 0.4959\n",
      "Epoch 6/10\n",
      "17500/17500 [==============================] - 44s 3ms/step - loss: 0.6840 - acc: 0.5244 - val_loss: 0.7028 - val_acc: 0.4993\n",
      "Epoch 7/10\n",
      "17500/17500 [==============================] - 45s 3ms/step - loss: 0.6748 - acc: 0.5263 - val_loss: 0.6978 - val_acc: 0.4955\n",
      "Epoch 8/10\n",
      "17500/17500 [==============================] - 44s 3ms/step - loss: 0.6591 - acc: 0.5322 - val_loss: 0.7052 - val_acc: 0.5080\n",
      "Epoch 9/10\n",
      "17500/17500 [==============================] - 44s 3ms/step - loss: 0.6448 - acc: 0.5397 - val_loss: 0.7392 - val_acc: 0.5077\n",
      "Epoch 10/10\n",
      "17500/17500 [==============================] - 44s 3ms/step - loss: 0.6408 - acc: 0.5433 - val_loss: 0.7317 - val_acc: 0.5089\n"
     ]
    }
   ],
   "source": [
    "# 编译模型\n",
    "model.compile(optimizer = \"rmsprop\", loss = \"binary_crossentropy\", metrics = [\"accuracy\"])\n",
    "\n",
    "# 训练模型\n",
    "history = model.fit(x_train, y_train, batch_size = 128, epochs = 10, verbose = 1, validation_split = 0.3)"
   ]
  },
  {
   "cell_type": "code",
   "execution_count": 31,
   "metadata": {},
   "outputs": [
    {
     "name": "stdout",
     "output_type": "stream",
     "text": [
      "25000/25000 [==============================] - 128s 5ms/step\n"
     ]
    },
    {
     "data": {
      "text/plain": [
       "[0.73079375795364376, 0.50371999999999995]"
      ]
     },
     "execution_count": 31,
     "metadata": {},
     "output_type": "execute_result"
    }
   ],
   "source": [
    "# 测试模型\n",
    "model.evaluate(x_test, y_test, verbose = 1)"
   ]
  },
  {
   "cell_type": "code",
   "execution_count": 32,
   "metadata": {},
   "outputs": [
    {
     "data": {
      "image/png": "[encoded data removed]",
      "text/plain": [
       "<Figure size 432x288 with 1 Axes>"
      ]
     },
     "metadata": {
      "needs_background": "light"
     },
     "output_type": "display_data"
    }
   ],
   "source": [
    "# 绘制结果\n",
    "plt.figure()\n",
    "epochs = [i for i in range(1, 11)]\n",
    "plt.plot(epochs, history.history[\"loss\"], label = \"Train Loss\")\n",
    "plt.plot(epochs, history.history[\"val_loss\"], label = \"Validation Loss\")\n",
    "plt.legend()\n",
    "plt.show()"
   ]
  },
  {
   "cell_type": "code",
   "execution_count": 33,
   "metadata": {},
   "outputs": [
    {
     "data": {
      "image/png": "[encoded data removed]",
      "text/plain": [
       "<Figure size 432x288 with 1 Axes>"
      ]
     },
     "metadata": {
      "needs_background": "light"
     },
     "output_type": "display_data"
    }
   ],
   "source": [
    "plt.figure()\n",
    "plt.plot(epochs, history.history[\"acc\"], label = \"Train Acc\")\n",
    "plt.plot(epochs, history.history[\"val_acc\"], label = \"Validation Acc\")\n",
    "plt.legend()\n",
    "plt.show()"
   ]
  },
  {
   "cell_type": "markdown",
   "metadata": {
    "heading_collapsed": true
   },
   "source": [
    "### 分析：\n",
    "训练效果相当不好，和普通猜测没什么打的区别。个人修改实验参数几次实验后，认为原因可能在与SimpleRNN的层数过多，导致梯度消失或者梯度爆炸，练训练集的误差和准确度都没有很好提升。"
   ]
  }
 ],
 "metadata": {
  "kernelspec": {
   "display_name": "Python 3",
   "language": "python",
   "name": "python3"
  },
  "language_info": {
   "codemirror_mode": {
    "name": "ipython",
    "version": 3
   },
   "file_extension": ".py",
   "mimetype": "text/x-python",
   "name": "python",
   "nbconvert_exporter": "python",
   "pygments_lexer": "ipython3",
   "version": "3.6.8"
  }
 },
 "nbformat": 4,
 "nbformat_minor": 2
}
