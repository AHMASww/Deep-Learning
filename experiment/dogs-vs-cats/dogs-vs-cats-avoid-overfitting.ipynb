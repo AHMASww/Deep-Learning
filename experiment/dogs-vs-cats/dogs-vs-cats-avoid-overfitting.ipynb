{
 "cells": [
  {
   "cell_type": "code",
   "execution_count": 1,
   "metadata": {},
   "outputs": [
    {
     "name": "stderr",
     "output_type": "stream",
     "text": [
      "Using TensorFlow backend.\n"
     ]
    },
    {
     "name": "stdout",
     "output_type": "stream",
     "text": [
      "Found 4000 images belonging to 2 classes.\n",
      "Found 2000 images belonging to 2 classes.\n",
      "Found 2000 images belonging to 2 classes.\n"
     ]
    }
   ],
   "source": [
    "from PIL import Image\n",
    "from keras.preprocessing.image import ImageDataGenerator\n",
    "\n",
    "train_dir = r\"C:\\Users\\WW\\Desktop\\Python\\keras\\dogs-vs-cats\\train\"\n",
    "validation_dir = r\"C:\\Users\\WW\\Desktop\\Python\\keras\\dogs-vs-cats\\validation\"\n",
    "test_dir = r\"C:\\Users\\WW\\Desktop\\Python\\keras\\dogs-vs-cats\\test\"\n",
    "\n",
    "# 对原数据进行旋转、翻转等增强\n",
    "'''\n",
    "ImageDataGenerator()函数中部分参数的解释：\n",
    "rotation_range: 整数,随机旋转的度数范围.\n",
    "width_shift_range: 图像在水平方向平移的范围(相对于总宽度的比例)\n",
    "height_shift_range: 图像在垂直方向平移的范围(相对于总高度的比例)\n",
    "shear_range: 随机错切变换的角度\n",
    "horizontal_flip: 随机将图片水平翻转\n",
    "fill_mode:  {\"constant\", \"nearest\", \"reflect\" or \"wrap\"} 之一,输入边界以外的点根据给定的模式填充：\n",
    "                    'constant': kkkkkkkk|abcd|kkkkkkkk (cval=k)\n",
    "                    'nearest': aaaaaaaa|abcd|dddddddd\n",
    "                    'reflect': abcddcba|abcd|dcbaabcd\n",
    "                    'wrap': abcdabcd|abcd|abcdabcd\n",
    "recale: 将像素点值乘以一个数\n",
    "'''\n",
    "train_datagen = ImageDataGenerator(rotation_range = 40, \n",
    "                                                             width_shift_range = 0.2,\n",
    "                                                             height_shift_range = 0.2,\n",
    "                                                             shear_range = 0.2,\n",
    "                                                             horizontal_flip = True,\n",
    "                                                             fill_mode = \"nearest\",\n",
    "                                                             rescale = 1./255)\n",
    "# 验证集和测试集不能增强\n",
    "validation_datagen = ImageDataGenerator(rescale = 1./255)\n",
    "test_datagen = ImageDataGenerator()\n",
    "\n",
    "train_generator = train_datagen.flow_from_directory(train_dir, \n",
    "                                                    target_size = (150, 150), \n",
    "                                                    class_mode = \"binary\", \n",
    "                                                    batch_size = 20)\n",
    "\n",
    "validation_generator = validation_datagen.flow_from_directory(validation_dir, \n",
    "                                                             target_size = (150, 150),\n",
    "                                                             class_mode = \"binary\",\n",
    "                                                             batch_size = 50)\n",
    "\n",
    "test_generator = test_datagen.flow_from_directory(test_dir, \n",
    "                                                 target_size = (150, 150), \n",
    "                                                 class_mode = \"binary\", \n",
    "                                                 batch_size = 20)"
   ]
  },
  {
   "cell_type": "code",
   "execution_count": 15,
   "metadata": {},
   "outputs": [],
   "source": [
    "# 构建模型必要的头文件\n",
    "from keras.layers import Dense, Conv2D, MaxPooling2D, Flatten, SpatialDropout2D, Dropout\n",
    "from keras.models import Sequential\n",
    "\n",
    "import numpy as np\n",
    "import matplotlib.pyplot as plt"
   ]
  },
  {
   "cell_type": "code",
   "execution_count": 19,
   "metadata": {},
   "outputs": [
    {
     "name": "stdout",
     "output_type": "stream",
     "text": [
      "_________________________________________________________________\n",
      "Layer (type)                 Output Shape              Param #   \n",
      "=================================================================\n",
      "conv2d_17 (Conv2D)           (None, 150, 150, 32)      896       \n",
      "_________________________________________________________________\n",
      "max_pooling2d_16 (MaxPooling (None, 75, 75, 32)        0         \n",
      "_________________________________________________________________\n",
      "conv2d_18 (Conv2D)           (None, 75, 75, 64)        18496     \n",
      "_________________________________________________________________\n",
      "max_pooling2d_17 (MaxPooling (None, 25, 25, 64)        0         \n",
      "_________________________________________________________________\n",
      "conv2d_19 (Conv2D)           (None, 25, 25, 64)        36928     \n",
      "_________________________________________________________________\n",
      "max_pooling2d_18 (MaxPooling (None, 8, 8, 64)          0         \n",
      "_________________________________________________________________\n",
      "flatten_6 (Flatten)          (None, 4096)              0         \n",
      "_________________________________________________________________\n",
      "dropout_10 (Dropout)         (None, 4096)              0         \n",
      "_________________________________________________________________\n",
      "dense_11 (Dense)             (None, 256)               1048832   \n",
      "_________________________________________________________________\n",
      "dropout_11 (Dropout)         (None, 256)               0         \n",
      "_________________________________________________________________\n",
      "dense_12 (Dense)             (None, 1)                 257       \n",
      "=================================================================\n",
      "Total params: 1,105,409\n",
      "Trainable params: 1,105,409\n",
      "Non-trainable params: 0\n",
      "_________________________________________________________________\n"
     ]
    }
   ],
   "source": [
    "# 构建模型\n",
    "model = Sequential()\n",
    "\n",
    "model.add(Conv2D(filters = 32, kernel_size = (3, 3), padding = \"same\", activation = \"relu\", input_shape = (150, 150, 3)))\n",
    "model.add(MaxPooling2D(pool_size = (2, 2), strides = 2))\n",
    "\n",
    "model.add(Conv2D(filters = 64, kernel_size = (3, 3), padding = \"same\", activation = \"relu\"))\n",
    "model.add(MaxPooling2D(pool_size = (3, 3), strides = 3))\n",
    "\n",
    "model.add(Conv2D(filters = 64, kernel_size = (3, 3), padding = \"same\", activation = \"relu\"))\n",
    "model.add(MaxPooling2D(pool_size = (3, 3), strides = 3))\n",
    "\n",
    "model.add(Flatten())\n",
    "model.add(Dropout(0.3))\n",
    "\n",
    "model.add(Dense(units = 256, activation = \"relu\"))\n",
    "model.add(Dropout(0.3))\n",
    "\n",
    "model.add(Dense(units = 1, activation = \"sigmoid\"))\n",
    "# 显示模型\n",
    "model.summary()"
   ]
  },
  {
   "cell_type": "code",
   "execution_count": 20,
   "metadata": {},
   "outputs": [
    {
     "name": "stdout",
     "output_type": "stream",
     "text": [
      "Epoch 1/30\n",
      "100/100 [==============================] - 19s 191ms/step - loss: 0.6962 - acc: 0.5215 - val_loss: 0.6960 - val_acc: 0.4760\n",
      "Epoch 2/30\n",
      "100/100 [==============================] - 17s 170ms/step - loss: 0.6932 - acc: 0.5285 - val_loss: 0.6821 - val_acc: 0.6020\n",
      "Epoch 3/30\n",
      "100/100 [==============================] - 18s 182ms/step - loss: 0.6764 - acc: 0.5770 - val_loss: 0.6663 - val_acc: 0.6160\n",
      "Epoch 4/30\n",
      "100/100 [==============================] - 18s 180ms/step - loss: 0.6733 - acc: 0.6020 - val_loss: 0.6546 - val_acc: 0.6140\n",
      "Epoch 5/30\n",
      "100/100 [==============================] - 19s 185ms/step - loss: 0.6657 - acc: 0.5815 - val_loss: 0.6446 - val_acc: 0.6370\n",
      "Epoch 6/30\n",
      "100/100 [==============================] - 17s 173ms/step - loss: 0.6450 - acc: 0.6395 - val_loss: 0.6009 - val_acc: 0.6880\n",
      "Epoch 7/30\n",
      "100/100 [==============================] - 18s 178ms/step - loss: 0.6158 - acc: 0.6665 - val_loss: 0.5882 - val_acc: 0.7000\n",
      "Epoch 8/30\n",
      "100/100 [==============================] - 18s 180ms/step - loss: 0.6195 - acc: 0.6585 - val_loss: 0.6199 - val_acc: 0.6930\n",
      "Epoch 9/30\n",
      "100/100 [==============================] - 18s 182ms/step - loss: 0.6254 - acc: 0.6610 - val_loss: 0.5744 - val_acc: 0.7100\n",
      "Epoch 10/30\n",
      "100/100 [==============================] - 18s 179ms/step - loss: 0.5880 - acc: 0.6920 - val_loss: 0.5788 - val_acc: 0.7110\n",
      "Epoch 11/30\n",
      "100/100 [==============================] - 19s 187ms/step - loss: 0.5956 - acc: 0.6750 - val_loss: 0.5702 - val_acc: 0.7070\n",
      "Epoch 12/30\n",
      "100/100 [==============================] - 17s 171ms/step - loss: 0.5978 - acc: 0.6885 - val_loss: 0.5613 - val_acc: 0.7200\n",
      "Epoch 13/30\n",
      "100/100 [==============================] - 17s 175ms/step - loss: 0.5606 - acc: 0.7095 - val_loss: 0.5751 - val_acc: 0.6870\n",
      "Epoch 14/30\n",
      "100/100 [==============================] - 18s 184ms/step - loss: 0.5859 - acc: 0.6875 - val_loss: 0.5457 - val_acc: 0.7360\n",
      "Epoch 15/30\n",
      "100/100 [==============================] - 19s 189ms/step - loss: 0.5674 - acc: 0.7000 - val_loss: 0.5547 - val_acc: 0.7040\n",
      "Epoch 16/30\n",
      "100/100 [==============================] - 18s 185ms/step - loss: 0.5608 - acc: 0.7145 - val_loss: 0.5918 - val_acc: 0.7180\n",
      "Epoch 17/30\n",
      "100/100 [==============================] - 19s 188ms/step - loss: 0.5675 - acc: 0.7120 - val_loss: 0.5246 - val_acc: 0.7350\n",
      "Epoch 18/30\n",
      "100/100 [==============================] - 19s 188ms/step - loss: 0.5445 - acc: 0.7225 - val_loss: 0.5464 - val_acc: 0.7220\n",
      "Epoch 19/30\n",
      "100/100 [==============================] - 19s 186ms/step - loss: 0.5532 - acc: 0.7195 - val_loss: 0.5230 - val_acc: 0.7420\n",
      "Epoch 20/30\n",
      "100/100 [==============================] - 17s 172ms/step - loss: 0.5283 - acc: 0.7320 - val_loss: 0.5104 - val_acc: 0.7590\n",
      "Epoch 21/30\n",
      "100/100 [==============================] - 17s 166ms/step - loss: 0.5373 - acc: 0.7305 - val_loss: 0.5187 - val_acc: 0.7200\n",
      "Epoch 22/30\n",
      "100/100 [==============================] - 17s 166ms/step - loss: 0.5458 - acc: 0.7200 - val_loss: 0.5281 - val_acc: 0.7550\n",
      "Epoch 23/30\n",
      "100/100 [==============================] - 17s 172ms/step - loss: 0.5254 - acc: 0.7485 - val_loss: 0.4901 - val_acc: 0.7590\n",
      "Epoch 24/30\n",
      "100/100 [==============================] - 18s 175ms/step - loss: 0.5313 - acc: 0.7370 - val_loss: 0.5056 - val_acc: 0.7510\n",
      "Epoch 25/30\n",
      "100/100 [==============================] - 18s 177ms/step - loss: 0.5186 - acc: 0.7335 - val_loss: 0.5136 - val_acc: 0.7640\n",
      "Epoch 26/30\n",
      "100/100 [==============================] - 18s 185ms/step - loss: 0.5366 - acc: 0.7440 - val_loss: 0.5089 - val_acc: 0.7510\n",
      "Epoch 27/30\n",
      "100/100 [==============================] - 18s 181ms/step - loss: 0.5173 - acc: 0.7410 - val_loss: 0.4931 - val_acc: 0.7730\n",
      "Epoch 28/30\n",
      "100/100 [==============================] - 18s 182ms/step - loss: 0.5125 - acc: 0.7535 - val_loss: 0.5003 - val_acc: 0.7520\n",
      "Epoch 29/30\n",
      "100/100 [==============================] - 18s 184ms/step - loss: 0.5041 - acc: 0.7555 - val_loss: 0.4893 - val_acc: 0.7580\n",
      "Epoch 30/30\n",
      "100/100 [==============================] - 18s 183ms/step - loss: 0.5272 - acc: 0.7375 - val_loss: 0.4535 - val_acc: 0.7830\n",
      "50/50 [==============================] - 3s 62ms/step\n"
     ]
    },
    {
     "data": {
      "text/plain": [
       "[4.8997415399551389, 0.68300000309944153]"
      ]
     },
     "execution_count": 20,
     "metadata": {},
     "output_type": "execute_result"
    }
   ],
   "source": [
    "# 编译模型\n",
    "model.compile(optimizer = \"adam\", loss = \"binary_crossentropy\", metrics = [\"accuracy\"])\n",
    "\n",
    "# 运行模型\n",
    "history = model.fit_generator(train_generator, \n",
    "                    steps_per_epoch = 100, \n",
    "                    epochs = 30, \n",
    "                    verbose = 1, \n",
    "                    validation_data = validation_generator,\n",
    "                    validation_steps = 20)\n",
    "\n",
    "# 测试模型\n",
    "model.evaluate_generator(test_generator,\n",
    "                        steps = 50, \n",
    "                        verbose = 1)"
   ]
  },
  {
   "cell_type": "code",
   "execution_count": 21,
   "metadata": {},
   "outputs": [
    {
     "data": {
      "image/png": "[encoded data removed]",
      "text/plain": [
       "<Figure size 432x288 with 1 Axes>"
      ]
     },
     "metadata": {
      "needs_background": "light"
     },
     "output_type": "display_data"
    }
   ],
   "source": [
    "plt.figure()\n",
    "epoch = [i for i in range(1, 31)]\n",
    "plt.plot(epoch, history.history[\"loss\"], label = \"Train Loss\")\n",
    "plt.plot(epoch, history.history[\"val_loss\"], label = \"Validition Loss\")\n",
    "plt.legend()\n",
    "plt.show()"
   ]
  }
 ],
 "metadata": {
  "kernelspec": {
   "display_name": "Python 3",
   "language": "python",
   "name": "python3"
  },
  "language_info": {
   "codemirror_mode": {
    "name": "ipython",
    "version": 3
   },
   "file_extension": ".py",
   "mimetype": "text/x-python",
   "name": "python",
   "nbconvert_exporter": "python",
   "pygments_lexer": "ipython3",
   "version": "3.6.8"
  }
 },
 "nbformat": 4,
 "nbformat_minor": 2
}
