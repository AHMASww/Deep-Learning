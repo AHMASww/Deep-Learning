{
 "cells": [
  {
   "cell_type": "code",
   "execution_count": 2,
   "metadata": {},
   "outputs": [
    {
     "name": "stderr",
     "output_type": "stream",
     "text": [
      "Using TensorFlow backend.\n"
     ]
    },
    {
     "name": "stdout",
     "output_type": "stream",
     "text": [
      "Found 4000 images belonging to 2 classes.\n",
      "Found 2000 images belonging to 2 classes.\n",
      "Found 2000 images belonging to 2 classes.\n"
     ]
    }
   ],
   "source": [
    "# 预处理数据\n",
    "from PIL import Image\n",
    "from keras.preprocessing.image import ImageDataGenerator\n",
    "\n",
    "train_dir = r\"C:\\Users\\WW\\Desktop\\Python\\keras\\dogs-vs-cats\\train\"\n",
    "validation_dir = r\"C:\\Users\\WW\\Desktop\\Python\\keras\\dogs-vs-cats\\validation\"\n",
    "test_dir = r\"C:\\Users\\WW\\Desktop\\Python\\keras\\dogs-vs-cats\\test\"\n",
    "\n",
    "train_datagen = ImageDataGenerator(rescale = 1./255)\n",
    "validation_datagen = ImageDataGenerator(rescale = 1./255)\n",
    "\n",
    "train_generator = train_datagen.flow_from_directory(\n",
    "                                                    directory = train_dir,\n",
    "                                                    target_size = (150, 150),\n",
    "                                                    class_mode = \"binary\",\n",
    "                                                    batch_size = 20)\n",
    "\n",
    "validation_generator = validation_datagen.flow_from_directory(directory = validation_dir,\n",
    "                                                                                                        target_size = (150, 150),\n",
    "                                                                                                        class_mode = \"binary\",\n",
    "                                                                                                        batch_size = 20)\n",
    "\n",
    "test_generator = test_datagen.flow_from_directory(directory  = test_dir,\n",
    "                                                                                    target_size = (150, 150),\n",
    "                                                                                    class_mode = \"binary\",\n",
    "                                                                                    batch_size = 20)"
   ]
  },
  {
   "cell_type": "code",
   "execution_count": 6,
   "metadata": {},
   "outputs": [],
   "source": [
    "from keras.layers import Dense, Conv2D, MaxPooling2D, Flatten\n",
    "from keras.models import Sequential\n",
    "\n",
    "import matplotlib.pyplot as plt\n",
    "import numpy as np\n",
    "import os"
   ]
  },
  {
   "cell_type": "code",
   "execution_count": 4,
   "metadata": {},
   "outputs": [
    {
     "name": "stdout",
     "output_type": "stream",
     "text": [
      "WARNING:tensorflow:From G:\\Anaconda3\\envs\\tensorflow\\lib\\site-packages\\tensorflow\\python\\framework\\op_def_library.py:263: colocate_with (from tensorflow.python.framework.ops) is deprecated and will be removed in a future version.\n",
      "Instructions for updating:\n",
      "Colocations handled automatically by placer.\n",
      "_________________________________________________________________\n",
      "Layer (type)                 Output Shape              Param #   \n",
      "=================================================================\n",
      "conv2d_1 (Conv2D)            (None, 148, 148, 32)      896       \n",
      "_________________________________________________________________\n",
      "max_pooling2d_1 (MaxPooling2 (None, 74, 74, 32)        0         \n",
      "_________________________________________________________________\n",
      "conv2d_2 (Conv2D)            (None, 72, 72, 64)        18496     \n",
      "_________________________________________________________________\n",
      "max_pooling2d_2 (MaxPooling2 (None, 36, 36, 64)        0         \n",
      "_________________________________________________________________\n",
      "conv2d_3 (Conv2D)            (None, 34, 34, 64)        36928     \n",
      "_________________________________________________________________\n",
      "max_pooling2d_3 (MaxPooling2 (None, 17, 17, 64)        0         \n",
      "_________________________________________________________________\n",
      "flatten_1 (Flatten)          (None, 18496)             0         \n",
      "_________________________________________________________________\n",
      "dense_1 (Dense)              (None, 64)                1183808   \n",
      "_________________________________________________________________\n",
      "dense_2 (Dense)              (None, 1)                 65        \n",
      "=================================================================\n",
      "Total params: 1,240,193\n",
      "Trainable params: 1,240,193\n",
      "Non-trainable params: 0\n",
      "_________________________________________________________________\n"
     ]
    }
   ],
   "source": [
    "# 搭建模型\n",
    "model = Sequential()\n",
    "model.add(Conv2D(filters = 32, kernel_size = (3, 3), padding = \"valid\", activation = \"relu\", input_shape = (150, 150 , 3)))\n",
    "model.add(MaxPooling2D(pool_size = (2, 2), strides = 2))\n",
    "model.add(Conv2D(filters = 64, kernel_size = (3, 3), padding = \"valid\", activation = \"relu\"))\n",
    "model.add(MaxPooling2D(pool_size = (2, 2), strides = 2))\n",
    "model.add(Conv2D(filters = 64, kernel_size = (3, 3), padding = \"valid\", activation = \"relu\"))\n",
    "model.add(MaxPooling2D(pool_size = (2, 2), strides = 2))\n",
    "model.add(Flatten())\n",
    "model.add(Dense(units = 64, activation = \"relu\", kernel_initializer = \"glorot_uniform\"))\n",
    "model.add(Dense(units = 1, activation = \"sigmoid\"))\n",
    "model.summary()"
   ]
  },
  {
   "cell_type": "code",
   "execution_count": 5,
   "metadata": {},
   "outputs": [
    {
     "name": "stdout",
     "output_type": "stream",
     "text": [
      "WARNING:tensorflow:From G:\\Anaconda3\\envs\\tensorflow\\lib\\site-packages\\tensorflow\\python\\ops\\math_ops.py:3066: to_int32 (from tensorflow.python.ops.math_ops) is deprecated and will be removed in a future version.\n",
      "Instructions for updating:\n",
      "Use tf.cast instead.\n",
      "Epoch 1/30\n",
      "100/100 [==============================] - 13s 131ms/step - loss: 0.6922 - acc: 0.5395 - val_loss: 0.6808 - val_acc: 0.6110\n",
      "Epoch 2/30\n",
      "100/100 [==============================] - 8s 84ms/step - loss: 0.6569 - acc: 0.6260 - val_loss: 0.6306 - val_acc: 0.6570\n",
      "Epoch 3/30\n",
      "100/100 [==============================] - 7s 67ms/step - loss: 0.6019 - acc: 0.6735 - val_loss: 0.6015 - val_acc: 0.6740\n",
      "Epoch 4/30\n",
      "100/100 [==============================] - 7s 66ms/step - loss: 0.6005 - acc: 0.6675 - val_loss: 0.6076 - val_acc: 0.6770\n",
      "Epoch 5/30\n",
      "100/100 [==============================] - 7s 66ms/step - loss: 0.5284 - acc: 0.7300 - val_loss: 0.5705 - val_acc: 0.7030\n",
      "Epoch 6/30\n",
      "100/100 [==============================] - 7s 65ms/step - loss: 0.5156 - acc: 0.7425 - val_loss: 0.5770 - val_acc: 0.7030\n",
      "Epoch 7/30\n",
      "100/100 [==============================] - 6s 65ms/step - loss: 0.4433 - acc: 0.7845 - val_loss: 0.5566 - val_acc: 0.7370\n",
      "Epoch 8/30\n",
      "100/100 [==============================] - 6s 65ms/step - loss: 0.4790 - acc: 0.7655 - val_loss: 0.5229 - val_acc: 0.7330\n",
      "Epoch 9/30\n",
      "100/100 [==============================] - 6s 65ms/step - loss: 0.3957 - acc: 0.8165 - val_loss: 0.5653 - val_acc: 0.7370\n",
      "Epoch 10/30\n",
      "100/100 [==============================] - 6s 65ms/step - loss: 0.4019 - acc: 0.8175 - val_loss: 0.5333 - val_acc: 0.7530\n",
      "Epoch 11/30\n",
      "100/100 [==============================] - 6s 65ms/step - loss: 0.3240 - acc: 0.8630 - val_loss: 0.5488 - val_acc: 0.7560\n",
      "Epoch 12/30\n",
      "100/100 [==============================] - 7s 65ms/step - loss: 0.3330 - acc: 0.8510 - val_loss: 0.5931 - val_acc: 0.7310\n",
      "Epoch 13/30\n",
      "100/100 [==============================] - 6s 65ms/step - loss: 0.2176 - acc: 0.9135 - val_loss: 0.5659 - val_acc: 0.7740\n",
      "Epoch 14/30\n",
      "100/100 [==============================] - 6s 64ms/step - loss: 0.2443 - acc: 0.8990 - val_loss: 0.6915 - val_acc: 0.7480\n",
      "Epoch 15/30\n",
      "100/100 [==============================] - 7s 65ms/step - loss: 0.1523 - acc: 0.9405 - val_loss: 0.7751 - val_acc: 0.7420\n",
      "Epoch 16/30\n",
      "100/100 [==============================] - 7s 68ms/step - loss: 0.1774 - acc: 0.9270 - val_loss: 0.7202 - val_acc: 0.7460\n",
      "Epoch 17/30\n",
      "100/100 [==============================] - 8s 84ms/step - loss: 0.0835 - acc: 0.9750 - val_loss: 0.9788 - val_acc: 0.7450\n",
      "Epoch 18/30\n",
      "100/100 [==============================] - 8s 79ms/step - loss: 0.0718 - acc: 0.9705 - val_loss: 0.9073 - val_acc: 0.7580\n",
      "Epoch 19/30\n",
      "100/100 [==============================] - 8s 79ms/step - loss: 0.0402 - acc: 0.9895 - val_loss: 1.1265 - val_acc: 0.7520\n",
      "Epoch 20/30\n",
      "100/100 [==============================] - 8s 78ms/step - loss: 0.0654 - acc: 0.9765 - val_loss: 1.1489 - val_acc: 0.7360\n",
      "Epoch 21/30\n",
      "100/100 [==============================] - 8s 76ms/step - loss: 0.0288 - acc: 0.9915 - val_loss: 1.2737 - val_acc: 0.7570\n",
      "Epoch 22/30\n",
      "100/100 [==============================] - 8s 79ms/step - loss: 0.0338 - acc: 0.9870 - val_loss: 1.2556 - val_acc: 0.7210\n",
      "Epoch 23/30\n",
      "100/100 [==============================] - 8s 78ms/step - loss: 0.0204 - acc: 0.9950 - val_loss: 1.4733 - val_acc: 0.7380\n",
      "Epoch 24/30\n",
      "100/100 [==============================] - 7s 73ms/step - loss: 0.0470 - acc: 0.9810 - val_loss: 1.3997 - val_acc: 0.7100\n",
      "Epoch 25/30\n",
      "100/100 [==============================] - 7s 71ms/step - loss: 0.0535 - acc: 0.9845 - val_loss: 1.4924 - val_acc: 0.7090\n",
      "Epoch 26/30\n",
      "100/100 [==============================] - 7s 71ms/step - loss: 0.0961 - acc: 0.9625 - val_loss: 1.0662 - val_acc: 0.7520\n",
      "Epoch 27/30\n",
      "100/100 [==============================] - 7s 71ms/step - loss: 0.0265 - acc: 0.9930 - val_loss: 1.2005 - val_acc: 0.7610\n",
      "Epoch 28/30\n",
      "100/100 [==============================] - 7s 71ms/step - loss: 0.0189 - acc: 0.9940 - val_loss: 1.4444 - val_acc: 0.7300\n",
      "Epoch 29/30\n",
      "100/100 [==============================] - 7s 73ms/step - loss: 0.0048 - acc: 0.9995 - val_loss: 1.5135 - val_acc: 0.7530\n",
      "Epoch 30/30\n",
      "100/100 [==============================] - 7s 72ms/step - loss: 0.0033 - acc: 0.9995 - val_loss: 1.5932 - val_acc: 0.7350\n"
     ]
    }
   ],
   "source": [
    "# 编译模型\n",
    "model.compile(optimizer = \"adam\", loss = \"binary_crossentropy\", metrics = [\"accuracy\"])\n",
    "\n",
    "# 运行模型\n",
    "history = model.fit_generator(train_generator, \n",
    "                                                steps_per_epoch = 100, \n",
    "                                                epochs = 30, \n",
    "                                                verbose = 1, \n",
    "                                                validation_data = validation_generator,\n",
    "                                                 validation_steps = 50)\n",
    "\n",
    "# 测试模型\n",
    "score = model.evaluate_generator(test_generator, steps = 50, verbose = 1)"
   ]
  },
  {
   "cell_type": "code",
   "execution_count": 7,
   "metadata": {},
   "outputs": [
    {
     "data": {
      "image/png": "[encoded data removed]",
      "text/plain": [
       "<Figure size 432x288 with 1 Axes>"
      ]
     },
     "metadata": {
      "needs_background": "light"
     },
     "output_type": "display_data"
    }
   ],
   "source": [
    "plt.figure()\n",
    "epoch = [i for i in range(1, 31)]\n",
    "plt.plot(epoch, history.history[\"loss\"], label = \"Train Loss\")\n",
    "plt.plot(epoch, history.history[\"val_loss\"], label = \"Validation Loss\")\n",
    "plt.legend()\n",
    "plt.show()"
   ]
  }
 ],
 "metadata": {
  "kernelspec": {
   "display_name": "Python 3",
   "language": "python",
   "name": "python3"
  },
  "language_info": {
   "codemirror_mode": {
    "name": "ipython",
    "version": 3
   },
   "file_extension": ".py",
   "mimetype": "text/x-python",
   "name": "python",
   "nbconvert_exporter": "python",
   "pygments_lexer": "ipython3",
   "version": "3.6.8"
  }
 },
 "nbformat": 4,
 "nbformat_minor": 2
}
