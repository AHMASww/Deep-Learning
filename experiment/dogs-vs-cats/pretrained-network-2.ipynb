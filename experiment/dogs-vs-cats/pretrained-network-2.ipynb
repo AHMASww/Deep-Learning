{
 "cells": [
  {
   "cell_type": "code",
   "execution_count": 6,
   "metadata": {},
   "outputs": [],
   "source": [
    "from keras.applications import VGG16\n",
    "from keras.layers import Dense, Flatten, Dropout\n",
    "from keras.models import Model, Sequential\n",
    "from keras.preprocessing.image import ImageDataGenerator\n",
    "\n",
    "import numpy as np\n",
    "import matplotlib.pyplot as plt"
   ]
  },
  {
   "cell_type": "code",
   "execution_count": 4,
   "metadata": {},
   "outputs": [
    {
     "name": "stdout",
     "output_type": "stream",
     "text": [
      "Found 4000 images belonging to 2 classes.\n",
      "Found 2000 images belonging to 2 classes.\n",
      "Found 2000 images belonging to 2 classes.\n"
     ]
    }
   ],
   "source": [
    "# 创建数据\n",
    "train_dir = r\"C:\\Users\\WW\\Desktop\\Python\\keras\\dogs-vs-cats\\train\"\n",
    "validation_dir = r\"C:\\Users\\WW\\Desktop\\Python\\keras\\dogs-vs-cats\\validation\"\n",
    "test_dir = r\"C:\\Users\\WW\\Desktop\\Python\\keras\\dogs-vs-cats\\test\"\n",
    "\n",
    "# 数据增强\n",
    "train_datagen = ImageDataGenerator(rescale = 1./255, \n",
    "                                  rotation_range = 40, \n",
    "                                  width_shift_range = 0.2, \n",
    "                                  height_shift_range = 0.2, \n",
    "                                  shear_range = 0.2, \n",
    "                                  zoom_range = 0.2,\n",
    "                                  horizontal_flip = True,\n",
    "                                  fill_mode = \"nearest\")\n",
    "train_generator = train_datagen.flow_from_directory(train_dir,\n",
    "                                                    target_size = (150, 150),\n",
    "                                                    batch_size = 20,\n",
    "                                                    class_mode = \"binary\")\n",
    "\n",
    "common_datagen = ImageDataGenerator(rescale = 1./255)\n",
    "validation_generator = common_datagen.flow_from_directory(validation_dir,\n",
    "                                                         target_size = (150, 150),\n",
    "                                                         batch_size = 20,\n",
    "                                                         class_mode = \"binary\")\n",
    "test_generator = common_datagen.flow_from_directory(test_dir,\n",
    "                                    target_size = (150, 150),\n",
    "                                    batch_size = 20,\n",
    "                                    class_mode = \"binary\")"
   ]
  },
  {
   "cell_type": "code",
   "execution_count": 7,
   "metadata": {},
   "outputs": [
    {
     "name": "stdout",
     "output_type": "stream",
     "text": [
      "WARNING:tensorflow:From G:\\Anaconda3\\envs\\tensorflow\\lib\\site-packages\\keras\\backend\\tensorflow_backend.py:3445: calling dropout (from tensorflow.python.ops.nn_ops) with keep_prob is deprecated and will be removed in a future version.\n",
      "Instructions for updating:\n",
      "Please use `rate` instead of `keep_prob`. Rate should be set to `rate = 1 - keep_prob`.\n",
      "_________________________________________________________________\n",
      "Layer (type)                 Output Shape              Param #   \n",
      "=================================================================\n",
      "vgg16 (Model)                (None, 4, 4, 512)         14714688  \n",
      "_________________________________________________________________\n",
      "flatten_1 (Flatten)          (None, 8192)              0         \n",
      "_________________________________________________________________\n",
      "dense_1 (Dense)              (None, 256)               2097408   \n",
      "_________________________________________________________________\n",
      "dropout_1 (Dropout)          (None, 256)               0         \n",
      "_________________________________________________________________\n",
      "dense_2 (Dense)              (None, 1)                 257       \n",
      "=================================================================\n",
      "Total params: 16,812,353\n",
      "Trainable params: 16,812,353\n",
      "Non-trainable params: 0\n",
      "_________________________________________________________________\n"
     ]
    }
   ],
   "source": [
    "conv_base = VGG16(weights = \"imagenet\", include_top = False, input_shape = (150, 150, 3))\n",
    "\n",
    "# 搭建模型\n",
    "model = Sequential()\n",
    "model.add(conv_base)\n",
    "model.add(Flatten())\n",
    "model.add(Dense(units = 256, activation = \"relu\"))\n",
    "model.add(Dropout(0.25))\n",
    "model.add(Dense(units = 1, activation = \"sigmoid\"))\n",
    "\n",
    "model.summary()"
   ]
  },
  {
   "cell_type": "code",
   "execution_count": 10,
   "metadata": {},
   "outputs": [
    {
     "name": "stdout",
     "output_type": "stream",
     "text": [
      "WARNING:tensorflow:From G:\\Anaconda3\\envs\\tensorflow\\lib\\site-packages\\tensorflow\\python\\ops\\math_ops.py:3066: to_int32 (from tensorflow.python.ops.math_ops) is deprecated and will be removed in a future version.\n",
      "Instructions for updating:\n",
      "Use tf.cast instead.\n",
      "Epoch 1/30\n",
      "100/100 [==============================] - 23s 230ms/step - loss: 1.1538 - acc: 0.6830 - val_loss: 0.4234 - val_acc: 0.8120\n",
      "Epoch 2/30\n",
      "100/100 [==============================] - 20s 200ms/step - loss: 0.5058 - acc: 0.7695 - val_loss: 0.3401 - val_acc: 0.8480\n",
      "Epoch 3/30\n",
      "100/100 [==============================] - 20s 200ms/step - loss: 0.4497 - acc: 0.7825 - val_loss: 0.3071 - val_acc: 0.8640\n",
      "Epoch 4/30\n",
      "100/100 [==============================] - 19s 190ms/step - loss: 0.4160 - acc: 0.8090 - val_loss: 0.3506 - val_acc: 0.8290\n",
      "Epoch 5/30\n",
      "100/100 [==============================] - 20s 197ms/step - loss: 0.4074 - acc: 0.8165 - val_loss: 0.2998 - val_acc: 0.8820\n",
      "Epoch 6/30\n",
      "100/100 [==============================] - 20s 198ms/step - loss: 0.4082 - acc: 0.8210 - val_loss: 0.2632 - val_acc: 0.8840\n",
      "Epoch 7/30\n",
      "100/100 [==============================] - 20s 196ms/step - loss: 0.4053 - acc: 0.8135 - val_loss: 0.3648 - val_acc: 0.8560\n",
      "Epoch 8/30\n",
      "100/100 [==============================] - 20s 197ms/step - loss: 0.3812 - acc: 0.8305 - val_loss: 0.2594 - val_acc: 0.8910\n",
      "Epoch 9/30\n",
      "100/100 [==============================] - 20s 195ms/step - loss: 0.3673 - acc: 0.8450 - val_loss: 0.4594 - val_acc: 0.8190\n",
      "Epoch 10/30\n",
      "100/100 [==============================] - 19s 195ms/step - loss: 0.4020 - acc: 0.8090 - val_loss: 0.2449 - val_acc: 0.8930\n",
      "Epoch 11/30\n",
      "100/100 [==============================] - 20s 203ms/step - loss: 0.3615 - acc: 0.8395 - val_loss: 0.2426 - val_acc: 0.8940\n",
      "Epoch 12/30\n",
      "100/100 [==============================] - 20s 199ms/step - loss: 0.3478 - acc: 0.8445 - val_loss: 0.3119 - val_acc: 0.8830\n",
      "Epoch 13/30\n",
      "100/100 [==============================] - 20s 201ms/step - loss: 0.3649 - acc: 0.8465 - val_loss: 0.2691 - val_acc: 0.8980\n",
      "Epoch 14/30\n",
      "100/100 [==============================] - 20s 196ms/step - loss: 0.3792 - acc: 0.8355 - val_loss: 0.2897 - val_acc: 0.8830\n",
      "Epoch 15/30\n",
      "100/100 [==============================] - 20s 199ms/step - loss: 0.3486 - acc: 0.8450 - val_loss: 0.3249 - val_acc: 0.8770\n",
      "Epoch 16/30\n",
      "100/100 [==============================] - 20s 200ms/step - loss: 0.3304 - acc: 0.8555 - val_loss: 0.2957 - val_acc: 0.8850\n",
      "Epoch 17/30\n",
      "100/100 [==============================] - 20s 196ms/step - loss: 0.3628 - acc: 0.8435 - val_loss: 0.3149 - val_acc: 0.8670\n",
      "Epoch 18/30\n",
      "100/100 [==============================] - 20s 196ms/step - loss: 0.3483 - acc: 0.8485 - val_loss: 0.2616 - val_acc: 0.9080\n",
      "Epoch 19/30\n",
      "100/100 [==============================] - 18s 184ms/step - loss: 0.3364 - acc: 0.8445 - val_loss: 0.2393 - val_acc: 0.9040\n",
      "Epoch 20/30\n",
      "100/100 [==============================] - 20s 204ms/step - loss: 0.3530 - acc: 0.8390 - val_loss: 0.2974 - val_acc: 0.8880\n",
      "Epoch 21/30\n",
      "100/100 [==============================] - 19s 187ms/step - loss: 0.3613 - acc: 0.8465 - val_loss: 0.3523 - val_acc: 0.8720\n",
      "Epoch 22/30\n",
      "100/100 [==============================] - 18s 184ms/step - loss: 0.3576 - acc: 0.8480 - val_loss: 0.3290 - val_acc: 0.8660\n",
      "Epoch 23/30\n",
      "100/100 [==============================] - 19s 185ms/step - loss: 0.3302 - acc: 0.8615 - val_loss: 0.3550 - val_acc: 0.8810\n",
      "Epoch 24/30\n",
      "100/100 [==============================] - 19s 188ms/step - loss: 0.3628 - acc: 0.8430 - val_loss: 0.2633 - val_acc: 0.8990\n",
      "Epoch 25/30\n",
      "100/100 [==============================] - 20s 204ms/step - loss: 0.3480 - acc: 0.8540 - val_loss: 0.2992 - val_acc: 0.8880\n",
      "Epoch 26/30\n",
      "100/100 [==============================] - 22s 222ms/step - loss: 0.3244 - acc: 0.8605 - val_loss: 0.2675 - val_acc: 0.9010\n",
      "Epoch 27/30\n",
      "100/100 [==============================] - 22s 218ms/step - loss: 0.3240 - acc: 0.8650 - val_loss: 0.2544 - val_acc: 0.9100\n",
      "Epoch 28/30\n",
      "100/100 [==============================] - 22s 217ms/step - loss: 0.3372 - acc: 0.8525 - val_loss: 0.2937 - val_acc: 0.8940\n",
      "Epoch 29/30\n",
      "100/100 [==============================] - 21s 213ms/step - loss: 0.3279 - acc: 0.8635 - val_loss: 0.2612 - val_acc: 0.8900\n",
      "Epoch 30/30\n",
      "100/100 [==============================] - 18s 184ms/step - loss: 0.3405 - acc: 0.8550 - val_loss: 0.2951 - val_acc: 0.8960\n",
      "50/50 [==============================] - 5s 93ms/step\n"
     ]
    }
   ],
   "source": [
    "# 冻结conv_base的权重，不参与反向传播\n",
    "conv_base.trainable = False\n",
    "\n",
    "# 编译模型\n",
    "model.compile(optimizer = \"rmsprop\", loss = \"binary_crossentropy\", metrics = [\"accuracy\"])\n",
    "\n",
    "# 运行模型\n",
    "history = model.fit_generator(train_generator,\n",
    "                   steps_per_epoch = 100,\n",
    "                   epochs = 30,\n",
    "                   validation_data = validation_generator,\n",
    "                   validation_steps = 50,\n",
    "                    verbose = 1)\n",
    "\n",
    "# 测试模型\n",
    "score = model.evaluate_generator(test_generator,\n",
    "                                steps = 50,\n",
    "                                verbose = 1)"
   ]
  },
  {
   "cell_type": "code",
   "execution_count": 12,
   "metadata": {},
   "outputs": [
    {
     "data": {
      "image/png": "[encoded data removed]",
      "text/plain": [
       "<Figure size 432x288 with 1 Axes>"
      ]
     },
     "metadata": {
      "needs_background": "light"
     },
     "output_type": "display_data"
    }
   ],
   "source": [
    "# 绘制结果\n",
    "plt.figure()\n",
    "epoch = [i for i in range(1, len(history.history[\"acc\"]) + 1)]\n",
    "plt.plot(epoch, history.history[\"acc\"], label = \"Training Accuracy\")\n",
    "plt.plot(epoch, history.history[\"val_acc\"], label = \"Validation Accuracy\")\n",
    "plt.legend()\n",
    "plt.show()"
   ]
  },
  {
   "cell_type": "code",
   "execution_count": 13,
   "metadata": {},
   "outputs": [
    {
     "data": {
      "image/png": "[encoded data removed]",
      "text/plain": [
       "<Figure size 432x288 with 1 Axes>"
      ]
     },
     "metadata": {
      "needs_background": "light"
     },
     "output_type": "display_data"
    }
   ],
   "source": [
    "plt.figure()\n",
    "plt.plot(epoch, history.history[\"loss\"], label = \"Training Loss\")\n",
    "plt.plot(epoch, history.history[\"val_loss\"], label = \"Validation Loss\")\n",
    "plt.legend()\n",
    "plt.show()"
   ]
  },
  {
   "cell_type": "code",
   "execution_count": 14,
   "metadata": {},
   "outputs": [],
   "source": [
    "model.save(r\"C:\\Users\\WW\\Desktop\\Python\\keras\\dogs-vs-cats\\dogs-vs-cats-model.h5\")"
   ]
  }
 ],
 "metadata": {
  "kernelspec": {
   "display_name": "Python 3",
   "language": "python",
   "name": "python3"
  },
  "language_info": {
   "codemirror_mode": {
    "name": "ipython",
    "version": 3
   },
   "file_extension": ".py",
   "mimetype": "text/x-python",
   "name": "python",
   "nbconvert_exporter": "python",
   "pygments_lexer": "ipython3",
   "version": "3.6.8"
  }
 },
 "nbformat": 4,
 "nbformat_minor": 2
}
