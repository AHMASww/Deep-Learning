{
 "cells": [
  {
   "cell_type": "code",
   "execution_count": 20,
   "metadata": {},
   "outputs": [],
   "source": [
    "from keras.applications import VGG16\n",
    "from keras.layers import Dense, Dropout\n",
    "from keras.models import Model, Sequential\n",
    "from keras.preprocessing.image import ImageDataGenerator\n",
    "\n",
    "import numpy as np\n",
    "import matplotlib.pyplot as plt\n",
    "import os"
   ]
  },
  {
   "cell_type": "code",
   "execution_count": 2,
   "metadata": {},
   "outputs": [
    {
     "name": "stdout",
     "output_type": "stream",
     "text": [
      "WARNING:tensorflow:From G:\\Anaconda3\\envs\\tensorflow\\lib\\site-packages\\tensorflow\\python\\framework\\op_def_library.py:263: colocate_with (from tensorflow.python.framework.ops) is deprecated and will be removed in a future version.\n",
      "Instructions for updating:\n",
      "Colocations handled automatically by placer.\n",
      "Downloading data from https://github.com/fchollet/deep-learning-models/releases/download/v0.1/vgg16_weights_tf_dim_ordering_tf_kernels_notop.h5\n",
      "58892288/58889256 [==============================] - 1648s 28us/step\n",
      "_________________________________________________________________\n",
      "Layer (type)                 Output Shape              Param #   \n",
      "=================================================================\n",
      "input_1 (InputLayer)         (None, 150, 150, 3)       0         \n",
      "_________________________________________________________________\n",
      "block1_conv1 (Conv2D)        (None, 150, 150, 64)      1792      \n",
      "_________________________________________________________________\n",
      "block1_conv2 (Conv2D)        (None, 150, 150, 64)      36928     \n",
      "_________________________________________________________________\n",
      "block1_pool (MaxPooling2D)   (None, 75, 75, 64)        0         \n",
      "_________________________________________________________________\n",
      "block2_conv1 (Conv2D)        (None, 75, 75, 128)       73856     \n",
      "_________________________________________________________________\n",
      "block2_conv2 (Conv2D)        (None, 75, 75, 128)       147584    \n",
      "_________________________________________________________________\n",
      "block2_pool (MaxPooling2D)   (None, 37, 37, 128)       0         \n",
      "_________________________________________________________________\n",
      "block3_conv1 (Conv2D)        (None, 37, 37, 256)       295168    \n",
      "_________________________________________________________________\n",
      "block3_conv2 (Conv2D)        (None, 37, 37, 256)       590080    \n",
      "_________________________________________________________________\n",
      "block3_conv3 (Conv2D)        (None, 37, 37, 256)       590080    \n",
      "_________________________________________________________________\n",
      "block3_pool (MaxPooling2D)   (None, 18, 18, 256)       0         \n",
      "_________________________________________________________________\n",
      "block4_conv1 (Conv2D)        (None, 18, 18, 512)       1180160   \n",
      "_________________________________________________________________\n",
      "block4_conv2 (Conv2D)        (None, 18, 18, 512)       2359808   \n",
      "_________________________________________________________________\n",
      "block4_conv3 (Conv2D)        (None, 18, 18, 512)       2359808   \n",
      "_________________________________________________________________\n",
      "block4_pool (MaxPooling2D)   (None, 9, 9, 512)         0         \n",
      "_________________________________________________________________\n",
      "block5_conv1 (Conv2D)        (None, 9, 9, 512)         2359808   \n",
      "_________________________________________________________________\n",
      "block5_conv2 (Conv2D)        (None, 9, 9, 512)         2359808   \n",
      "_________________________________________________________________\n",
      "block5_conv3 (Conv2D)        (None, 9, 9, 512)         2359808   \n",
      "_________________________________________________________________\n",
      "block5_pool (MaxPooling2D)   (None, 4, 4, 512)         0         \n",
      "=================================================================\n",
      "Total params: 14,714,688\n",
      "Trainable params: 14,714,688\n",
      "Non-trainable params: 0\n",
      "_________________________________________________________________\n"
     ]
    }
   ],
   "source": [
    "conv_base = VGG16(weights = \"imagenet\", include_top = False, input_shape = (150, 150, 3))\n",
    "conv_base.summary()"
   ]
  },
  {
   "cell_type": "code",
   "execution_count": 17,
   "metadata": {},
   "outputs": [
    {
     "name": "stdout",
     "output_type": "stream",
     "text": [
      "Found 4000 images belonging to 2 classes.\n",
      "Found 2000 images belonging to 2 classes.\n",
      "Found 2000 images belonging to 2 classes.\n"
     ]
    }
   ],
   "source": [
    "# 提取特征\n",
    "train_dir = r\"C:\\Users\\WW\\Desktop\\Python\\keras\\dogs-vs-cats\\train\"\n",
    "validation_dir = r\"C:\\Users\\WW\\Desktop\\Python\\keras\\dogs-vs-cats\\validation\"\n",
    "test_dir = r\"C:\\Users\\WW\\Desktop\\Python\\keras\\dogs-vs-cats\\test\"\n",
    "\n",
    "datagen = ImageDataGenerator(rescale = 1./255)\n",
    "batch_size = 20 \n",
    "\n",
    "def extract_features(directory, sample_count):\n",
    "    features = np.zeros(shape = (sample_count, 4, 4, 512))\n",
    "    labels = np.zeros(shape = (sample_count,))\n",
    "    \n",
    "    generator = datagen.flow_from_directory(directory, \n",
    "                                            target_size = (150, 150), \n",
    "                                            batch_size = batch_size, \n",
    "                                            class_mode = \"binary\")\n",
    "    # 这里用i来控制生成器的迭代次数\n",
    "    i = 0\n",
    "    for inputs_batch, labels_batch in generator:\n",
    "        features_batch = conv_base.predict(inputs_batch)\n",
    "        features[i * batch_size : (i + 1) * batch_size] = features_batch\n",
    "        labels[i * batch_size : (i + 1) * batch_size] = labels_batch\n",
    "        i += 1\n",
    "        if i * batch_size >= sample_count:\n",
    "            break\n",
    "    return features, labels\n",
    "\n",
    "train_features, train_labels = extract_features(train_dir, 2000)\n",
    "validation_features, validation_labels = extract_features(validation_dir, 1000)\n",
    "test_features, test_labels = extract_features(test_dir, 1000)\n",
    "\n",
    "# 因为接下来要使用Flatten层，所以对特征进行reshape\n",
    "train_features = np.reshape(train_features, (2000, 4 * 4 * 512))\n",
    "validation_features = np.reshape(validation_features, (1000, 4 * 4 * 512))\n",
    "test_features = np.reshape(test_features, (1000, 4 * 4 * 512))"
   ]
  },
  {
   "cell_type": "code",
   "execution_count": 14,
   "metadata": {},
   "outputs": [
    {
     "name": "stdout",
     "output_type": "stream",
     "text": [
      "WARNING:tensorflow:From G:\\Anaconda3\\envs\\tensorflow\\lib\\site-packages\\keras\\backend\\tensorflow_backend.py:3445: calling dropout (from tensorflow.python.ops.nn_ops) with keep_prob is deprecated and will be removed in a future version.\n",
      "Instructions for updating:\n",
      "Please use `rate` instead of `keep_prob`. Rate should be set to `rate = 1 - keep_prob`.\n",
      "_________________________________________________________________\n",
      "Layer (type)                 Output Shape              Param #   \n",
      "=================================================================\n",
      "dense_3 (Dense)              (None, 256)               2097408   \n",
      "_________________________________________________________________\n",
      "dropout_1 (Dropout)          (None, 256)               0         \n",
      "_________________________________________________________________\n",
      "dense_4 (Dense)              (None, 1)                 257       \n",
      "=================================================================\n",
      "Total params: 2,097,665\n",
      "Trainable params: 2,097,665\n",
      "Non-trainable params: 0\n",
      "_________________________________________________________________\n"
     ]
    }
   ],
   "source": [
    "# 构建自己的分类层\n",
    "model = Sequential()\n",
    "\n",
    "model.add(Dense(units = 256, activation = \"relu\", input_dim = (4 * 4 * 512)))\n",
    "model.add(Dropout(0.25))\n",
    "\n",
    "model.add(Dense(units = 1, activation = \"sigmoid\"))\n",
    "\n",
    "model.summary()"
   ]
  },
  {
   "cell_type": "code",
   "execution_count": 18,
   "metadata": {},
   "outputs": [
    {
     "name": "stdout",
     "output_type": "stream",
     "text": [
      "Train on 2000 samples, validate on 1000 samples\n",
      "Epoch 1/30\n",
      "2000/2000 [==============================] - 1s 582us/step - loss: 0.3989 - acc: 0.9250 - val_loss: 0.4473 - val_acc: 0.8730\n",
      "Epoch 2/30\n",
      "2000/2000 [==============================] - 1s 404us/step - loss: 0.1964 - acc: 0.9430 - val_loss: 0.5454 - val_acc: 0.8640\n",
      "Epoch 3/30\n",
      "2000/2000 [==============================] - 1s 398us/step - loss: 0.1547 - acc: 0.9510 - val_loss: 0.4667 - val_acc: 0.8760\n",
      "Epoch 4/30\n",
      "2000/2000 [==============================] - 1s 411us/step - loss: 0.1163 - acc: 0.9630 - val_loss: 0.4796 - val_acc: 0.8780\n",
      "Epoch 5/30\n",
      "2000/2000 [==============================] - 1s 400us/step - loss: 0.1007 - acc: 0.9705 - val_loss: 0.6184 - val_acc: 0.8620\n",
      "Epoch 6/30\n",
      "2000/2000 [==============================] - 1s 393us/step - loss: 0.0706 - acc: 0.9785 - val_loss: 0.7103 - val_acc: 0.8720\n",
      "Epoch 7/30\n",
      "2000/2000 [==============================] - 1s 400us/step - loss: 0.0594 - acc: 0.9815 - val_loss: 0.6360 - val_acc: 0.8770\n",
      "Epoch 8/30\n",
      "2000/2000 [==============================] - 1s 399us/step - loss: 0.0398 - acc: 0.9895 - val_loss: 0.6645 - val_acc: 0.8880\n",
      "Epoch 9/30\n",
      "2000/2000 [==============================] - 1s 410us/step - loss: 0.0440 - acc: 0.9875 - val_loss: 0.8227 - val_acc: 0.8750\n",
      "Epoch 10/30\n",
      "2000/2000 [==============================] - 1s 396us/step - loss: 0.0436 - acc: 0.9875 - val_loss: 0.7297 - val_acc: 0.8780\n",
      "Epoch 11/30\n",
      "2000/2000 [==============================] - 1s 386us/step - loss: 0.0357 - acc: 0.9910 - val_loss: 0.7235 - val_acc: 0.8770\n",
      "Epoch 12/30\n",
      "2000/2000 [==============================] - 1s 402us/step - loss: 0.0305 - acc: 0.9930 - val_loss: 0.7902 - val_acc: 0.8670\n",
      "Epoch 13/30\n",
      "2000/2000 [==============================] - 1s 409us/step - loss: 0.0292 - acc: 0.9950 - val_loss: 0.7613 - val_acc: 0.8730\n",
      "Epoch 14/30\n",
      "2000/2000 [==============================] - 1s 419us/step - loss: 0.0222 - acc: 0.9940 - val_loss: 0.7484 - val_acc: 0.8860\n",
      "Epoch 15/30\n",
      "2000/2000 [==============================] - 1s 405us/step - loss: 0.0211 - acc: 0.9950 - val_loss: 0.8153 - val_acc: 0.8810\n",
      "Epoch 16/30\n",
      "2000/2000 [==============================] - 1s 403us/step - loss: 0.0287 - acc: 0.9920 - val_loss: 0.9140 - val_acc: 0.8850\n",
      "Epoch 17/30\n",
      "2000/2000 [==============================] - 1s 398us/step - loss: 0.0199 - acc: 0.9965 - val_loss: 0.8877 - val_acc: 0.8810\n",
      "Epoch 18/30\n",
      "2000/2000 [==============================] - 1s 417us/step - loss: 0.0174 - acc: 0.9960 - val_loss: 1.3245 - val_acc: 0.8390\n",
      "Epoch 19/30\n",
      "2000/2000 [==============================] - 1s 417us/step - loss: 0.0119 - acc: 0.9975 - val_loss: 0.9362 - val_acc: 0.8800\n",
      "Epoch 20/30\n",
      "2000/2000 [==============================] - 1s 428us/step - loss: 0.0202 - acc: 0.9965 - val_loss: 0.8945 - val_acc: 0.8800\n",
      "Epoch 21/30\n",
      "2000/2000 [==============================] - 1s 423us/step - loss: 0.0166 - acc: 0.9980 - val_loss: 0.9673 - val_acc: 0.8800\n",
      "Epoch 22/30\n",
      "2000/2000 [==============================] - 1s 411us/step - loss: 0.0179 - acc: 0.9965 - val_loss: 1.7054 - val_acc: 0.8170\n",
      "Epoch 23/30\n",
      "2000/2000 [==============================] - 1s 419us/step - loss: 0.0160 - acc: 0.9985 - val_loss: 0.9747 - val_acc: 0.8780\n",
      "Epoch 24/30\n",
      "2000/2000 [==============================] - 1s 418us/step - loss: 0.0136 - acc: 0.9970 - val_loss: 0.9226 - val_acc: 0.8810\n",
      "Epoch 25/30\n",
      "2000/2000 [==============================] - 1s 429us/step - loss: 0.0094 - acc: 0.9990 - val_loss: 1.0410 - val_acc: 0.8700\n",
      "Epoch 26/30\n",
      "2000/2000 [==============================] - 1s 436us/step - loss: 0.0117 - acc: 0.9985 - val_loss: 1.0343 - val_acc: 0.8770\n",
      "Epoch 27/30\n",
      "2000/2000 [==============================] - 1s 413us/step - loss: 0.0182 - acc: 0.9970 - val_loss: 1.0333 - val_acc: 0.8690\n",
      "Epoch 28/30\n",
      "2000/2000 [==============================] - 1s 403us/step - loss: 0.0133 - acc: 0.9975 - val_loss: 1.0502 - val_acc: 0.8750\n",
      "Epoch 29/30\n",
      "2000/2000 [==============================] - 1s 417us/step - loss: 0.0094 - acc: 0.9990 - val_loss: 1.0466 - val_acc: 0.8760\n",
      "Epoch 30/30\n",
      "2000/2000 [==============================] - 1s 420us/step - loss: 0.0121 - acc: 0.9980 - val_loss: 1.0532 - val_acc: 0.8770\n",
      "1000/1000 [==============================] - 0s 123us/step\n"
     ]
    }
   ],
   "source": [
    "# 编译模型\n",
    "model.compile(optimizer = \"rmsprop\", loss = \"binary_crossentropy\", metrics = [\"accuracy\"])\n",
    "\n",
    "# 运行模型\n",
    "history = model.fit(train_features, \n",
    "                    train_labels, \n",
    "                    batch_size = 20, \n",
    "                    epochs = 30, \n",
    "                    validation_data = (validation_features, validation_labels), \n",
    "                    verbose = 1)\n",
    "\n",
    "# 测试模型\n",
    "score = model.evaluate(test_features, test_labels, verbose = 1)"
   ]
  },
  {
   "cell_type": "code",
   "execution_count": 24,
   "metadata": {},
   "outputs": [
    {
     "data": {
      "image/png": "[encoded data removed]",
      "text/plain": [
       "<Figure size 432x288 with 1 Axes>"
      ]
     },
     "metadata": {
      "needs_background": "light"
     },
     "output_type": "display_data"
    }
   ],
   "source": [
    "# 绘制结果\n",
    "plt.figure()\n",
    "epochs = [i for i in range(1, len(history.history[\"loss\"]) + 1)]\n",
    "plt.plot(epochs, history.history[\"loss\"], label = \"Train Loss\")\n",
    "plt.plot(epochs, history.history[\"val_loss\"], label = \"Validation Loss\")\n",
    "plt.legend()\n",
    "plt.show()"
   ]
  },
  {
   "cell_type": "code",
   "execution_count": 25,
   "metadata": {},
   "outputs": [
    {
     "data": {
      "image/png": "[encoded data removed]",
      "text/plain": [
       "<Figure size 432x288 with 1 Axes>"
      ]
     },
     "metadata": {
      "needs_background": "light"
     },
     "output_type": "display_data"
    }
   ],
   "source": [
    "plt.figure()\n",
    "plt.plot(epochs, history.history[\"acc\"], label = \"Train Accuracy\")\n",
    "plt.plot(epochs, history.history[\"val_acc\"], label = \"Validation Accuracy\")\n",
    "plt.legend()\n",
    "plt.show()"
   ]
  }
 ],
 "metadata": {
  "kernelspec": {
   "display_name": "Python 3",
   "language": "python",
   "name": "python3"
  },
  "language_info": {
   "codemirror_mode": {
    "name": "ipython",
    "version": 3
   },
   "file_extension": ".py",
   "mimetype": "text/x-python",
   "name": "python",
   "nbconvert_exporter": "python",
   "pygments_lexer": "ipython3",
   "version": "3.6.8"
  }
 },
 "nbformat": 4,
 "nbformat_minor": 2
}
